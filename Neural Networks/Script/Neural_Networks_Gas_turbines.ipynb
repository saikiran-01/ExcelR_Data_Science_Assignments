{
  "nbformat": 4,
  "nbformat_minor": 0,
  "metadata": {
    "colab": {
      "provenance": []
    },
    "kernelspec": {
      "name": "python3",
      "display_name": "Python 3"
    },
    "language_info": {
      "name": "python"
    }
  },
  "cells": [
    {
      "cell_type": "markdown",
      "source": [
        "The dataset contains 36733 instances of 11 sensor measures aggregated over one hour (by means of average or sum) from a gas turbine. The Dataset includes gas turbine parameters (such as Turbine Inlet Temperature and Compressor Discharge pressure) in addition to the ambient variables.\n",
        "\n",
        "Problem statement: predicting turbine energy yield (TEY) using ambient variables as features.\n",
        "\n",
        "Attribute Information:\n",
        "\n",
        "The explanations of sensor measurements and their brief statistics are given below.\n",
        "\n",
        "Variable (Abbr.) Unit Min Max Mean Ambient temperature (AT) C â€“6.23 37.10 17.71 Ambient pressure (AP) mbar 985.85 1036.56 1013.07 Ambient humidity (AH) (%) 24.08 100.20 77.87 Air filter difference pressure (AFDP) mbar 2.09 7.61 3.93 Gas turbine exhaust pressure (GTEP) mbar 17.70 40.72 25.56 Turbine inlet temperature (TIT) C 1000.85 1100.89 1081.43 Turbine after temperature (TAT) C 511.04 550.61 546.16 Compressor discharge pressure (CDP) mbar 9.85 15.16 12.06 Turbine energy yield (TEY) MWH 100.02 179.50 133.51 Carbon monoxide (CO) mg/m3 0.00 44.10 2.37 Nitrogen oxides (NOx) mg/m3 25.90 119.91 65.29"
      ],
      "metadata": {
        "id": "GcZ5xpipz0As"
      }
    },
    {
      "cell_type": "code",
      "source": [
        "import pandas as pd\n",
        "import matplotlib.pyplot as plt\n",
        "import seaborn as sns\n",
        "import numpy as np\n",
        "from sklearn.model_selection import GridSearchCV,KFold,RandomizedSearchCV\n",
        "from keras.models import Sequential\n",
        "from keras.layers import Dense\n",
        "from keras.wrappers.scikit_learn import KerasClassifier\n",
        "from keras.optimizers import Adam\n",
        "from sklearn.preprocessing import StandardScaler\n",
        "from sklearn.model_selection import train_test_split\n",
        "from keras.layers import Dropout"
      ],
      "metadata": {
        "id": "7KwcWCQx0X1k"
      },
      "execution_count": 1,
      "outputs": []
    },
    {
      "cell_type": "code",
      "source": [
        "from google.colab import files\n",
        "uploaded=files.upload()"
      ],
      "metadata": {
        "colab": {
          "base_uri": "https://localhost:8080/",
          "height": 73
        },
        "id": "Pq4lRUv_0kuC",
        "outputId": "34b05505-c98d-4d71-beb8-9654040cf128"
      },
      "execution_count": 2,
      "outputs": [
        {
          "output_type": "display_data",
          "data": {
            "text/plain": [
              "<IPython.core.display.HTML object>"
            ],
            "text/html": [
              "\n",
              "     <input type=\"file\" id=\"files-4c0da62b-bba0-4e1e-8e07-65dbd9f26b33\" name=\"files[]\" multiple disabled\n",
              "        style=\"border:none\" />\n",
              "     <output id=\"result-4c0da62b-bba0-4e1e-8e07-65dbd9f26b33\">\n",
              "      Upload widget is only available when the cell has been executed in the\n",
              "      current browser session. Please rerun this cell to enable.\n",
              "      </output>\n",
              "      <script>// Copyright 2017 Google LLC\n",
              "//\n",
              "// Licensed under the Apache License, Version 2.0 (the \"License\");\n",
              "// you may not use this file except in compliance with the License.\n",
              "// You may obtain a copy of the License at\n",
              "//\n",
              "//      http://www.apache.org/licenses/LICENSE-2.0\n",
              "//\n",
              "// Unless required by applicable law or agreed to in writing, software\n",
              "// distributed under the License is distributed on an \"AS IS\" BASIS,\n",
              "// WITHOUT WARRANTIES OR CONDITIONS OF ANY KIND, either express or implied.\n",
              "// See the License for the specific language governing permissions and\n",
              "// limitations under the License.\n",
              "\n",
              "/**\n",
              " * @fileoverview Helpers for google.colab Python module.\n",
              " */\n",
              "(function(scope) {\n",
              "function span(text, styleAttributes = {}) {\n",
              "  const element = document.createElement('span');\n",
              "  element.textContent = text;\n",
              "  for (const key of Object.keys(styleAttributes)) {\n",
              "    element.style[key] = styleAttributes[key];\n",
              "  }\n",
              "  return element;\n",
              "}\n",
              "\n",
              "// Max number of bytes which will be uploaded at a time.\n",
              "const MAX_PAYLOAD_SIZE = 100 * 1024;\n",
              "\n",
              "function _uploadFiles(inputId, outputId) {\n",
              "  const steps = uploadFilesStep(inputId, outputId);\n",
              "  const outputElement = document.getElementById(outputId);\n",
              "  // Cache steps on the outputElement to make it available for the next call\n",
              "  // to uploadFilesContinue from Python.\n",
              "  outputElement.steps = steps;\n",
              "\n",
              "  return _uploadFilesContinue(outputId);\n",
              "}\n",
              "\n",
              "// This is roughly an async generator (not supported in the browser yet),\n",
              "// where there are multiple asynchronous steps and the Python side is going\n",
              "// to poll for completion of each step.\n",
              "// This uses a Promise to block the python side on completion of each step,\n",
              "// then passes the result of the previous step as the input to the next step.\n",
              "function _uploadFilesContinue(outputId) {\n",
              "  const outputElement = document.getElementById(outputId);\n",
              "  const steps = outputElement.steps;\n",
              "\n",
              "  const next = steps.next(outputElement.lastPromiseValue);\n",
              "  return Promise.resolve(next.value.promise).then((value) => {\n",
              "    // Cache the last promise value to make it available to the next\n",
              "    // step of the generator.\n",
              "    outputElement.lastPromiseValue = value;\n",
              "    return next.value.response;\n",
              "  });\n",
              "}\n",
              "\n",
              "/**\n",
              " * Generator function which is called between each async step of the upload\n",
              " * process.\n",
              " * @param {string} inputId Element ID of the input file picker element.\n",
              " * @param {string} outputId Element ID of the output display.\n",
              " * @return {!Iterable<!Object>} Iterable of next steps.\n",
              " */\n",
              "function* uploadFilesStep(inputId, outputId) {\n",
              "  const inputElement = document.getElementById(inputId);\n",
              "  inputElement.disabled = false;\n",
              "\n",
              "  const outputElement = document.getElementById(outputId);\n",
              "  outputElement.innerHTML = '';\n",
              "\n",
              "  const pickedPromise = new Promise((resolve) => {\n",
              "    inputElement.addEventListener('change', (e) => {\n",
              "      resolve(e.target.files);\n",
              "    });\n",
              "  });\n",
              "\n",
              "  const cancel = document.createElement('button');\n",
              "  inputElement.parentElement.appendChild(cancel);\n",
              "  cancel.textContent = 'Cancel upload';\n",
              "  const cancelPromise = new Promise((resolve) => {\n",
              "    cancel.onclick = () => {\n",
              "      resolve(null);\n",
              "    };\n",
              "  });\n",
              "\n",
              "  // Wait for the user to pick the files.\n",
              "  const files = yield {\n",
              "    promise: Promise.race([pickedPromise, cancelPromise]),\n",
              "    response: {\n",
              "      action: 'starting',\n",
              "    }\n",
              "  };\n",
              "\n",
              "  cancel.remove();\n",
              "\n",
              "  // Disable the input element since further picks are not allowed.\n",
              "  inputElement.disabled = true;\n",
              "\n",
              "  if (!files) {\n",
              "    return {\n",
              "      response: {\n",
              "        action: 'complete',\n",
              "      }\n",
              "    };\n",
              "  }\n",
              "\n",
              "  for (const file of files) {\n",
              "    const li = document.createElement('li');\n",
              "    li.append(span(file.name, {fontWeight: 'bold'}));\n",
              "    li.append(span(\n",
              "        `(${file.type || 'n/a'}) - ${file.size} bytes, ` +\n",
              "        `last modified: ${\n",
              "            file.lastModifiedDate ? file.lastModifiedDate.toLocaleDateString() :\n",
              "                                    'n/a'} - `));\n",
              "    const percent = span('0% done');\n",
              "    li.appendChild(percent);\n",
              "\n",
              "    outputElement.appendChild(li);\n",
              "\n",
              "    const fileDataPromise = new Promise((resolve) => {\n",
              "      const reader = new FileReader();\n",
              "      reader.onload = (e) => {\n",
              "        resolve(e.target.result);\n",
              "      };\n",
              "      reader.readAsArrayBuffer(file);\n",
              "    });\n",
              "    // Wait for the data to be ready.\n",
              "    let fileData = yield {\n",
              "      promise: fileDataPromise,\n",
              "      response: {\n",
              "        action: 'continue',\n",
              "      }\n",
              "    };\n",
              "\n",
              "    // Use a chunked sending to avoid message size limits. See b/62115660.\n",
              "    let position = 0;\n",
              "    do {\n",
              "      const length = Math.min(fileData.byteLength - position, MAX_PAYLOAD_SIZE);\n",
              "      const chunk = new Uint8Array(fileData, position, length);\n",
              "      position += length;\n",
              "\n",
              "      const base64 = btoa(String.fromCharCode.apply(null, chunk));\n",
              "      yield {\n",
              "        response: {\n",
              "          action: 'append',\n",
              "          file: file.name,\n",
              "          data: base64,\n",
              "        },\n",
              "      };\n",
              "\n",
              "      let percentDone = fileData.byteLength === 0 ?\n",
              "          100 :\n",
              "          Math.round((position / fileData.byteLength) * 100);\n",
              "      percent.textContent = `${percentDone}% done`;\n",
              "\n",
              "    } while (position < fileData.byteLength);\n",
              "  }\n",
              "\n",
              "  // All done.\n",
              "  yield {\n",
              "    response: {\n",
              "      action: 'complete',\n",
              "    }\n",
              "  };\n",
              "}\n",
              "\n",
              "scope.google = scope.google || {};\n",
              "scope.google.colab = scope.google.colab || {};\n",
              "scope.google.colab._files = {\n",
              "  _uploadFiles,\n",
              "  _uploadFilesContinue,\n",
              "};\n",
              "})(self);\n",
              "</script> "
            ]
          },
          "metadata": {}
        },
        {
          "output_type": "stream",
          "name": "stdout",
          "text": [
            "Saving gas_turbines.csv to gas_turbines (1).csv\n"
          ]
        }
      ]
    },
    {
      "cell_type": "code",
      "source": [
        "Data=pd.read_csv(\"gas_turbines.csv\")\n",
        "Data"
      ],
      "metadata": {
        "colab": {
          "base_uri": "https://localhost:8080/",
          "height": 424
        },
        "id": "kM49Afgr0wZa",
        "outputId": "c22b4c27-6abb-47ad-938f-0c9b0cfec3ac"
      },
      "execution_count": 3,
      "outputs": [
        {
          "output_type": "execute_result",
          "data": {
            "text/plain": [
              "           AT      AP      AH    AFDP    GTEP     TIT     TAT     TEY     CDP  \\\n",
              "0      6.8594  1007.9  96.799  3.5000  19.663  1059.2  550.00  114.70  10.605   \n",
              "1      6.7850  1008.4  97.118  3.4998  19.728  1059.3  550.00  114.72  10.598   \n",
              "2      6.8977  1008.8  95.939  3.4824  19.779  1059.4  549.87  114.71  10.601   \n",
              "3      7.0569  1009.2  95.249  3.4805  19.792  1059.6  549.99  114.72  10.606   \n",
              "4      7.3978  1009.7  95.150  3.4976  19.765  1059.7  549.98  114.72  10.612   \n",
              "...       ...     ...     ...     ...     ...     ...     ...     ...     ...   \n",
              "15034  9.0301  1005.6  98.460  3.5421  19.164  1049.7  546.21  111.61  10.400   \n",
              "15035  7.8879  1005.9  99.093  3.5059  19.414  1046.3  543.22  111.78  10.433   \n",
              "15036  7.2647  1006.3  99.496  3.4770  19.530  1037.7  537.32  110.19  10.483   \n",
              "15037  7.0060  1006.8  99.008  3.4486  19.377  1043.2  541.24  110.74  10.533   \n",
              "15038  6.9279  1007.2  97.533  3.4275  19.306  1049.9  545.85  111.58  10.583   \n",
              "\n",
              "           CO     NOX  \n",
              "0      3.1547  82.722  \n",
              "1      3.2363  82.776  \n",
              "2      3.2012  82.468  \n",
              "3      3.1923  82.670  \n",
              "4      3.2484  82.311  \n",
              "...       ...     ...  \n",
              "15034  4.5186  79.559  \n",
              "15035  4.8470  79.917  \n",
              "15036  7.9632  90.912  \n",
              "15037  6.2494  93.227  \n",
              "15038  4.9816  92.498  \n",
              "\n",
              "[15039 rows x 11 columns]"
            ],
            "text/html": [
              "\n",
              "\n",
              "  <div id=\"df-9485e5e4-2cf8-4e66-a558-78aa8489169a\">\n",
              "    <div class=\"colab-df-container\">\n",
              "      <div>\n",
              "<style scoped>\n",
              "    .dataframe tbody tr th:only-of-type {\n",
              "        vertical-align: middle;\n",
              "    }\n",
              "\n",
              "    .dataframe tbody tr th {\n",
              "        vertical-align: top;\n",
              "    }\n",
              "\n",
              "    .dataframe thead th {\n",
              "        text-align: right;\n",
              "    }\n",
              "</style>\n",
              "<table border=\"1\" class=\"dataframe\">\n",
              "  <thead>\n",
              "    <tr style=\"text-align: right;\">\n",
              "      <th></th>\n",
              "      <th>AT</th>\n",
              "      <th>AP</th>\n",
              "      <th>AH</th>\n",
              "      <th>AFDP</th>\n",
              "      <th>GTEP</th>\n",
              "      <th>TIT</th>\n",
              "      <th>TAT</th>\n",
              "      <th>TEY</th>\n",
              "      <th>CDP</th>\n",
              "      <th>CO</th>\n",
              "      <th>NOX</th>\n",
              "    </tr>\n",
              "  </thead>\n",
              "  <tbody>\n",
              "    <tr>\n",
              "      <th>0</th>\n",
              "      <td>6.8594</td>\n",
              "      <td>1007.9</td>\n",
              "      <td>96.799</td>\n",
              "      <td>3.5000</td>\n",
              "      <td>19.663</td>\n",
              "      <td>1059.2</td>\n",
              "      <td>550.00</td>\n",
              "      <td>114.70</td>\n",
              "      <td>10.605</td>\n",
              "      <td>3.1547</td>\n",
              "      <td>82.722</td>\n",
              "    </tr>\n",
              "    <tr>\n",
              "      <th>1</th>\n",
              "      <td>6.7850</td>\n",
              "      <td>1008.4</td>\n",
              "      <td>97.118</td>\n",
              "      <td>3.4998</td>\n",
              "      <td>19.728</td>\n",
              "      <td>1059.3</td>\n",
              "      <td>550.00</td>\n",
              "      <td>114.72</td>\n",
              "      <td>10.598</td>\n",
              "      <td>3.2363</td>\n",
              "      <td>82.776</td>\n",
              "    </tr>\n",
              "    <tr>\n",
              "      <th>2</th>\n",
              "      <td>6.8977</td>\n",
              "      <td>1008.8</td>\n",
              "      <td>95.939</td>\n",
              "      <td>3.4824</td>\n",
              "      <td>19.779</td>\n",
              "      <td>1059.4</td>\n",
              "      <td>549.87</td>\n",
              "      <td>114.71</td>\n",
              "      <td>10.601</td>\n",
              "      <td>3.2012</td>\n",
              "      <td>82.468</td>\n",
              "    </tr>\n",
              "    <tr>\n",
              "      <th>3</th>\n",
              "      <td>7.0569</td>\n",
              "      <td>1009.2</td>\n",
              "      <td>95.249</td>\n",
              "      <td>3.4805</td>\n",
              "      <td>19.792</td>\n",
              "      <td>1059.6</td>\n",
              "      <td>549.99</td>\n",
              "      <td>114.72</td>\n",
              "      <td>10.606</td>\n",
              "      <td>3.1923</td>\n",
              "      <td>82.670</td>\n",
              "    </tr>\n",
              "    <tr>\n",
              "      <th>4</th>\n",
              "      <td>7.3978</td>\n",
              "      <td>1009.7</td>\n",
              "      <td>95.150</td>\n",
              "      <td>3.4976</td>\n",
              "      <td>19.765</td>\n",
              "      <td>1059.7</td>\n",
              "      <td>549.98</td>\n",
              "      <td>114.72</td>\n",
              "      <td>10.612</td>\n",
              "      <td>3.2484</td>\n",
              "      <td>82.311</td>\n",
              "    </tr>\n",
              "    <tr>\n",
              "      <th>...</th>\n",
              "      <td>...</td>\n",
              "      <td>...</td>\n",
              "      <td>...</td>\n",
              "      <td>...</td>\n",
              "      <td>...</td>\n",
              "      <td>...</td>\n",
              "      <td>...</td>\n",
              "      <td>...</td>\n",
              "      <td>...</td>\n",
              "      <td>...</td>\n",
              "      <td>...</td>\n",
              "    </tr>\n",
              "    <tr>\n",
              "      <th>15034</th>\n",
              "      <td>9.0301</td>\n",
              "      <td>1005.6</td>\n",
              "      <td>98.460</td>\n",
              "      <td>3.5421</td>\n",
              "      <td>19.164</td>\n",
              "      <td>1049.7</td>\n",
              "      <td>546.21</td>\n",
              "      <td>111.61</td>\n",
              "      <td>10.400</td>\n",
              "      <td>4.5186</td>\n",
              "      <td>79.559</td>\n",
              "    </tr>\n",
              "    <tr>\n",
              "      <th>15035</th>\n",
              "      <td>7.8879</td>\n",
              "      <td>1005.9</td>\n",
              "      <td>99.093</td>\n",
              "      <td>3.5059</td>\n",
              "      <td>19.414</td>\n",
              "      <td>1046.3</td>\n",
              "      <td>543.22</td>\n",
              "      <td>111.78</td>\n",
              "      <td>10.433</td>\n",
              "      <td>4.8470</td>\n",
              "      <td>79.917</td>\n",
              "    </tr>\n",
              "    <tr>\n",
              "      <th>15036</th>\n",
              "      <td>7.2647</td>\n",
              "      <td>1006.3</td>\n",
              "      <td>99.496</td>\n",
              "      <td>3.4770</td>\n",
              "      <td>19.530</td>\n",
              "      <td>1037.7</td>\n",
              "      <td>537.32</td>\n",
              "      <td>110.19</td>\n",
              "      <td>10.483</td>\n",
              "      <td>7.9632</td>\n",
              "      <td>90.912</td>\n",
              "    </tr>\n",
              "    <tr>\n",
              "      <th>15037</th>\n",
              "      <td>7.0060</td>\n",
              "      <td>1006.8</td>\n",
              "      <td>99.008</td>\n",
              "      <td>3.4486</td>\n",
              "      <td>19.377</td>\n",
              "      <td>1043.2</td>\n",
              "      <td>541.24</td>\n",
              "      <td>110.74</td>\n",
              "      <td>10.533</td>\n",
              "      <td>6.2494</td>\n",
              "      <td>93.227</td>\n",
              "    </tr>\n",
              "    <tr>\n",
              "      <th>15038</th>\n",
              "      <td>6.9279</td>\n",
              "      <td>1007.2</td>\n",
              "      <td>97.533</td>\n",
              "      <td>3.4275</td>\n",
              "      <td>19.306</td>\n",
              "      <td>1049.9</td>\n",
              "      <td>545.85</td>\n",
              "      <td>111.58</td>\n",
              "      <td>10.583</td>\n",
              "      <td>4.9816</td>\n",
              "      <td>92.498</td>\n",
              "    </tr>\n",
              "  </tbody>\n",
              "</table>\n",
              "<p>15039 rows × 11 columns</p>\n",
              "</div>\n",
              "      <button class=\"colab-df-convert\" onclick=\"convertToInteractive('df-9485e5e4-2cf8-4e66-a558-78aa8489169a')\"\n",
              "              title=\"Convert this dataframe to an interactive table.\"\n",
              "              style=\"display:none;\">\n",
              "\n",
              "  <svg xmlns=\"http://www.w3.org/2000/svg\" height=\"24px\"viewBox=\"0 0 24 24\"\n",
              "       width=\"24px\">\n",
              "    <path d=\"M0 0h24v24H0V0z\" fill=\"none\"/>\n",
              "    <path d=\"M18.56 5.44l.94 2.06.94-2.06 2.06-.94-2.06-.94-.94-2.06-.94 2.06-2.06.94zm-11 1L8.5 8.5l.94-2.06 2.06-.94-2.06-.94L8.5 2.5l-.94 2.06-2.06.94zm10 10l.94 2.06.94-2.06 2.06-.94-2.06-.94-.94-2.06-.94 2.06-2.06.94z\"/><path d=\"M17.41 7.96l-1.37-1.37c-.4-.4-.92-.59-1.43-.59-.52 0-1.04.2-1.43.59L10.3 9.45l-7.72 7.72c-.78.78-.78 2.05 0 2.83L4 21.41c.39.39.9.59 1.41.59.51 0 1.02-.2 1.41-.59l7.78-7.78 2.81-2.81c.8-.78.8-2.07 0-2.86zM5.41 20L4 18.59l7.72-7.72 1.47 1.35L5.41 20z\"/>\n",
              "  </svg>\n",
              "      </button>\n",
              "\n",
              "\n",
              "\n",
              "    <div id=\"df-17e31502-9504-4b48-b661-828fc84ded4f\">\n",
              "      <button class=\"colab-df-quickchart\" onclick=\"quickchart('df-17e31502-9504-4b48-b661-828fc84ded4f')\"\n",
              "              title=\"Suggest charts.\"\n",
              "              style=\"display:none;\">\n",
              "\n",
              "<svg xmlns=\"http://www.w3.org/2000/svg\" height=\"24px\"viewBox=\"0 0 24 24\"\n",
              "     width=\"24px\">\n",
              "    <g>\n",
              "        <path d=\"M19 3H5c-1.1 0-2 .9-2 2v14c0 1.1.9 2 2 2h14c1.1 0 2-.9 2-2V5c0-1.1-.9-2-2-2zM9 17H7v-7h2v7zm4 0h-2V7h2v10zm4 0h-2v-4h2v4z\"/>\n",
              "    </g>\n",
              "</svg>\n",
              "      </button>\n",
              "    </div>\n",
              "\n",
              "<style>\n",
              "  .colab-df-quickchart {\n",
              "    background-color: #E8F0FE;\n",
              "    border: none;\n",
              "    border-radius: 50%;\n",
              "    cursor: pointer;\n",
              "    display: none;\n",
              "    fill: #1967D2;\n",
              "    height: 32px;\n",
              "    padding: 0 0 0 0;\n",
              "    width: 32px;\n",
              "  }\n",
              "\n",
              "  .colab-df-quickchart:hover {\n",
              "    background-color: #E2EBFA;\n",
              "    box-shadow: 0px 1px 2px rgba(60, 64, 67, 0.3), 0px 1px 3px 1px rgba(60, 64, 67, 0.15);\n",
              "    fill: #174EA6;\n",
              "  }\n",
              "\n",
              "  [theme=dark] .colab-df-quickchart {\n",
              "    background-color: #3B4455;\n",
              "    fill: #D2E3FC;\n",
              "  }\n",
              "\n",
              "  [theme=dark] .colab-df-quickchart:hover {\n",
              "    background-color: #434B5C;\n",
              "    box-shadow: 0px 1px 3px 1px rgba(0, 0, 0, 0.15);\n",
              "    filter: drop-shadow(0px 1px 2px rgba(0, 0, 0, 0.3));\n",
              "    fill: #FFFFFF;\n",
              "  }\n",
              "</style>\n",
              "\n",
              "    <script>\n",
              "      async function quickchart(key) {\n",
              "        const containerElement = document.querySelector('#' + key);\n",
              "        const charts = await google.colab.kernel.invokeFunction(\n",
              "            'suggestCharts', [key], {});\n",
              "      }\n",
              "    </script>\n",
              "\n",
              "      <script>\n",
              "\n",
              "function displayQuickchartButton(domScope) {\n",
              "  let quickchartButtonEl =\n",
              "    domScope.querySelector('#df-17e31502-9504-4b48-b661-828fc84ded4f button.colab-df-quickchart');\n",
              "  quickchartButtonEl.style.display =\n",
              "    google.colab.kernel.accessAllowed ? 'block' : 'none';\n",
              "}\n",
              "\n",
              "        displayQuickchartButton(document);\n",
              "      </script>\n",
              "      <style>\n",
              "    .colab-df-container {\n",
              "      display:flex;\n",
              "      flex-wrap:wrap;\n",
              "      gap: 12px;\n",
              "    }\n",
              "\n",
              "    .colab-df-convert {\n",
              "      background-color: #E8F0FE;\n",
              "      border: none;\n",
              "      border-radius: 50%;\n",
              "      cursor: pointer;\n",
              "      display: none;\n",
              "      fill: #1967D2;\n",
              "      height: 32px;\n",
              "      padding: 0 0 0 0;\n",
              "      width: 32px;\n",
              "    }\n",
              "\n",
              "    .colab-df-convert:hover {\n",
              "      background-color: #E2EBFA;\n",
              "      box-shadow: 0px 1px 2px rgba(60, 64, 67, 0.3), 0px 1px 3px 1px rgba(60, 64, 67, 0.15);\n",
              "      fill: #174EA6;\n",
              "    }\n",
              "\n",
              "    [theme=dark] .colab-df-convert {\n",
              "      background-color: #3B4455;\n",
              "      fill: #D2E3FC;\n",
              "    }\n",
              "\n",
              "    [theme=dark] .colab-df-convert:hover {\n",
              "      background-color: #434B5C;\n",
              "      box-shadow: 0px 1px 3px 1px rgba(0, 0, 0, 0.15);\n",
              "      filter: drop-shadow(0px 1px 2px rgba(0, 0, 0, 0.3));\n",
              "      fill: #FFFFFF;\n",
              "    }\n",
              "  </style>\n",
              "\n",
              "      <script>\n",
              "        const buttonEl =\n",
              "          document.querySelector('#df-9485e5e4-2cf8-4e66-a558-78aa8489169a button.colab-df-convert');\n",
              "        buttonEl.style.display =\n",
              "          google.colab.kernel.accessAllowed ? 'block' : 'none';\n",
              "\n",
              "        async function convertToInteractive(key) {\n",
              "          const element = document.querySelector('#df-9485e5e4-2cf8-4e66-a558-78aa8489169a');\n",
              "          const dataTable =\n",
              "            await google.colab.kernel.invokeFunction('convertToInteractive',\n",
              "                                                     [key], {});\n",
              "          if (!dataTable) return;\n",
              "\n",
              "          const docLinkHtml = 'Like what you see? Visit the ' +\n",
              "            '<a target=\"_blank\" href=https://colab.research.google.com/notebooks/data_table.ipynb>data table notebook</a>'\n",
              "            + ' to learn more about interactive tables.';\n",
              "          element.innerHTML = '';\n",
              "          dataTable['output_type'] = 'display_data';\n",
              "          await google.colab.output.renderOutput(dataTable, element);\n",
              "          const docLink = document.createElement('div');\n",
              "          docLink.innerHTML = docLinkHtml;\n",
              "          element.appendChild(docLink);\n",
              "        }\n",
              "      </script>\n",
              "    </div>\n",
              "  </div>\n"
            ]
          },
          "metadata": {},
          "execution_count": 3
        }
      ]
    },
    {
      "cell_type": "code",
      "source": [
        "Data.info()"
      ],
      "metadata": {
        "colab": {
          "base_uri": "https://localhost:8080/"
        },
        "id": "LaUUuPRY0-jL",
        "outputId": "f02e7395-34c8-4a42-dcd0-c2adf08e26e9"
      },
      "execution_count": 4,
      "outputs": [
        {
          "output_type": "stream",
          "name": "stdout",
          "text": [
            "<class 'pandas.core.frame.DataFrame'>\n",
            "RangeIndex: 15039 entries, 0 to 15038\n",
            "Data columns (total 11 columns):\n",
            " #   Column  Non-Null Count  Dtype  \n",
            "---  ------  --------------  -----  \n",
            " 0   AT      15039 non-null  float64\n",
            " 1   AP      15039 non-null  float64\n",
            " 2   AH      15039 non-null  float64\n",
            " 3   AFDP    15039 non-null  float64\n",
            " 4   GTEP    15039 non-null  float64\n",
            " 5   TIT     15039 non-null  float64\n",
            " 6   TAT     15039 non-null  float64\n",
            " 7   TEY     15039 non-null  float64\n",
            " 8   CDP     15039 non-null  float64\n",
            " 9   CO      15039 non-null  float64\n",
            " 10  NOX     15039 non-null  float64\n",
            "dtypes: float64(11)\n",
            "memory usage: 1.3 MB\n"
          ]
        }
      ]
    },
    {
      "cell_type": "code",
      "source": [
        "Data.describe()"
      ],
      "metadata": {
        "colab": {
          "base_uri": "https://localhost:8080/",
          "height": 344
        },
        "id": "k6yzios11Ea7",
        "outputId": "86ea3ece-3398-4d87-ae72-98ae1e754e59"
      },
      "execution_count": 5,
      "outputs": [
        {
          "output_type": "execute_result",
          "data": {
            "text/plain": [
              "                 AT           AP            AH          AFDP          GTEP  \\\n",
              "count  15039.000000  15039.00000  15039.000000  15039.000000  15039.000000   \n",
              "mean      17.764381   1013.19924     79.124174      4.200294     25.419061   \n",
              "std        7.574323      6.41076     13.793439      0.760197      4.173916   \n",
              "min        0.522300    985.85000     30.344000      2.087400     17.878000   \n",
              "25%       11.408000   1008.90000     69.750000      3.723900     23.294000   \n",
              "50%       18.186000   1012.80000     82.266000      4.186200     25.082000   \n",
              "75%       23.862500   1016.90000     90.043500      4.550900     27.184000   \n",
              "max       34.929000   1034.20000    100.200000      7.610600     37.402000   \n",
              "\n",
              "                TIT           TAT           TEY           CDP            CO  \\\n",
              "count  15039.000000  15039.000000  15039.000000  15039.000000  15039.000000   \n",
              "mean    1083.798770    545.396183    134.188464     12.102353      1.972499   \n",
              "std       16.527806      7.866803     15.829717      1.103196      2.222206   \n",
              "min     1000.800000    512.450000    100.170000      9.904400      0.000388   \n",
              "25%     1079.600000    542.170000    127.985000     11.622000      0.858055   \n",
              "50%     1088.700000    549.890000    133.780000     12.025000      1.390200   \n",
              "75%     1096.000000    550.060000    140.895000     12.578000      2.160400   \n",
              "max     1100.800000    550.610000    174.610000     15.081000     44.103000   \n",
              "\n",
              "                NOX  \n",
              "count  15039.000000  \n",
              "mean      68.190934  \n",
              "std       10.470586  \n",
              "min       27.765000  \n",
              "25%       61.303500  \n",
              "50%       66.601000  \n",
              "75%       73.935500  \n",
              "max      119.890000  "
            ],
            "text/html": [
              "\n",
              "\n",
              "  <div id=\"df-0373ecbe-f4a1-4898-8394-761777585fb8\">\n",
              "    <div class=\"colab-df-container\">\n",
              "      <div>\n",
              "<style scoped>\n",
              "    .dataframe tbody tr th:only-of-type {\n",
              "        vertical-align: middle;\n",
              "    }\n",
              "\n",
              "    .dataframe tbody tr th {\n",
              "        vertical-align: top;\n",
              "    }\n",
              "\n",
              "    .dataframe thead th {\n",
              "        text-align: right;\n",
              "    }\n",
              "</style>\n",
              "<table border=\"1\" class=\"dataframe\">\n",
              "  <thead>\n",
              "    <tr style=\"text-align: right;\">\n",
              "      <th></th>\n",
              "      <th>AT</th>\n",
              "      <th>AP</th>\n",
              "      <th>AH</th>\n",
              "      <th>AFDP</th>\n",
              "      <th>GTEP</th>\n",
              "      <th>TIT</th>\n",
              "      <th>TAT</th>\n",
              "      <th>TEY</th>\n",
              "      <th>CDP</th>\n",
              "      <th>CO</th>\n",
              "      <th>NOX</th>\n",
              "    </tr>\n",
              "  </thead>\n",
              "  <tbody>\n",
              "    <tr>\n",
              "      <th>count</th>\n",
              "      <td>15039.000000</td>\n",
              "      <td>15039.00000</td>\n",
              "      <td>15039.000000</td>\n",
              "      <td>15039.000000</td>\n",
              "      <td>15039.000000</td>\n",
              "      <td>15039.000000</td>\n",
              "      <td>15039.000000</td>\n",
              "      <td>15039.000000</td>\n",
              "      <td>15039.000000</td>\n",
              "      <td>15039.000000</td>\n",
              "      <td>15039.000000</td>\n",
              "    </tr>\n",
              "    <tr>\n",
              "      <th>mean</th>\n",
              "      <td>17.764381</td>\n",
              "      <td>1013.19924</td>\n",
              "      <td>79.124174</td>\n",
              "      <td>4.200294</td>\n",
              "      <td>25.419061</td>\n",
              "      <td>1083.798770</td>\n",
              "      <td>545.396183</td>\n",
              "      <td>134.188464</td>\n",
              "      <td>12.102353</td>\n",
              "      <td>1.972499</td>\n",
              "      <td>68.190934</td>\n",
              "    </tr>\n",
              "    <tr>\n",
              "      <th>std</th>\n",
              "      <td>7.574323</td>\n",
              "      <td>6.41076</td>\n",
              "      <td>13.793439</td>\n",
              "      <td>0.760197</td>\n",
              "      <td>4.173916</td>\n",
              "      <td>16.527806</td>\n",
              "      <td>7.866803</td>\n",
              "      <td>15.829717</td>\n",
              "      <td>1.103196</td>\n",
              "      <td>2.222206</td>\n",
              "      <td>10.470586</td>\n",
              "    </tr>\n",
              "    <tr>\n",
              "      <th>min</th>\n",
              "      <td>0.522300</td>\n",
              "      <td>985.85000</td>\n",
              "      <td>30.344000</td>\n",
              "      <td>2.087400</td>\n",
              "      <td>17.878000</td>\n",
              "      <td>1000.800000</td>\n",
              "      <td>512.450000</td>\n",
              "      <td>100.170000</td>\n",
              "      <td>9.904400</td>\n",
              "      <td>0.000388</td>\n",
              "      <td>27.765000</td>\n",
              "    </tr>\n",
              "    <tr>\n",
              "      <th>25%</th>\n",
              "      <td>11.408000</td>\n",
              "      <td>1008.90000</td>\n",
              "      <td>69.750000</td>\n",
              "      <td>3.723900</td>\n",
              "      <td>23.294000</td>\n",
              "      <td>1079.600000</td>\n",
              "      <td>542.170000</td>\n",
              "      <td>127.985000</td>\n",
              "      <td>11.622000</td>\n",
              "      <td>0.858055</td>\n",
              "      <td>61.303500</td>\n",
              "    </tr>\n",
              "    <tr>\n",
              "      <th>50%</th>\n",
              "      <td>18.186000</td>\n",
              "      <td>1012.80000</td>\n",
              "      <td>82.266000</td>\n",
              "      <td>4.186200</td>\n",
              "      <td>25.082000</td>\n",
              "      <td>1088.700000</td>\n",
              "      <td>549.890000</td>\n",
              "      <td>133.780000</td>\n",
              "      <td>12.025000</td>\n",
              "      <td>1.390200</td>\n",
              "      <td>66.601000</td>\n",
              "    </tr>\n",
              "    <tr>\n",
              "      <th>75%</th>\n",
              "      <td>23.862500</td>\n",
              "      <td>1016.90000</td>\n",
              "      <td>90.043500</td>\n",
              "      <td>4.550900</td>\n",
              "      <td>27.184000</td>\n",
              "      <td>1096.000000</td>\n",
              "      <td>550.060000</td>\n",
              "      <td>140.895000</td>\n",
              "      <td>12.578000</td>\n",
              "      <td>2.160400</td>\n",
              "      <td>73.935500</td>\n",
              "    </tr>\n",
              "    <tr>\n",
              "      <th>max</th>\n",
              "      <td>34.929000</td>\n",
              "      <td>1034.20000</td>\n",
              "      <td>100.200000</td>\n",
              "      <td>7.610600</td>\n",
              "      <td>37.402000</td>\n",
              "      <td>1100.800000</td>\n",
              "      <td>550.610000</td>\n",
              "      <td>174.610000</td>\n",
              "      <td>15.081000</td>\n",
              "      <td>44.103000</td>\n",
              "      <td>119.890000</td>\n",
              "    </tr>\n",
              "  </tbody>\n",
              "</table>\n",
              "</div>\n",
              "      <button class=\"colab-df-convert\" onclick=\"convertToInteractive('df-0373ecbe-f4a1-4898-8394-761777585fb8')\"\n",
              "              title=\"Convert this dataframe to an interactive table.\"\n",
              "              style=\"display:none;\">\n",
              "\n",
              "  <svg xmlns=\"http://www.w3.org/2000/svg\" height=\"24px\"viewBox=\"0 0 24 24\"\n",
              "       width=\"24px\">\n",
              "    <path d=\"M0 0h24v24H0V0z\" fill=\"none\"/>\n",
              "    <path d=\"M18.56 5.44l.94 2.06.94-2.06 2.06-.94-2.06-.94-.94-2.06-.94 2.06-2.06.94zm-11 1L8.5 8.5l.94-2.06 2.06-.94-2.06-.94L8.5 2.5l-.94 2.06-2.06.94zm10 10l.94 2.06.94-2.06 2.06-.94-2.06-.94-.94-2.06-.94 2.06-2.06.94z\"/><path d=\"M17.41 7.96l-1.37-1.37c-.4-.4-.92-.59-1.43-.59-.52 0-1.04.2-1.43.59L10.3 9.45l-7.72 7.72c-.78.78-.78 2.05 0 2.83L4 21.41c.39.39.9.59 1.41.59.51 0 1.02-.2 1.41-.59l7.78-7.78 2.81-2.81c.8-.78.8-2.07 0-2.86zM5.41 20L4 18.59l7.72-7.72 1.47 1.35L5.41 20z\"/>\n",
              "  </svg>\n",
              "      </button>\n",
              "\n",
              "\n",
              "\n",
              "    <div id=\"df-d3718367-388d-4f71-8892-faa853254977\">\n",
              "      <button class=\"colab-df-quickchart\" onclick=\"quickchart('df-d3718367-388d-4f71-8892-faa853254977')\"\n",
              "              title=\"Suggest charts.\"\n",
              "              style=\"display:none;\">\n",
              "\n",
              "<svg xmlns=\"http://www.w3.org/2000/svg\" height=\"24px\"viewBox=\"0 0 24 24\"\n",
              "     width=\"24px\">\n",
              "    <g>\n",
              "        <path d=\"M19 3H5c-1.1 0-2 .9-2 2v14c0 1.1.9 2 2 2h14c1.1 0 2-.9 2-2V5c0-1.1-.9-2-2-2zM9 17H7v-7h2v7zm4 0h-2V7h2v10zm4 0h-2v-4h2v4z\"/>\n",
              "    </g>\n",
              "</svg>\n",
              "      </button>\n",
              "    </div>\n",
              "\n",
              "<style>\n",
              "  .colab-df-quickchart {\n",
              "    background-color: #E8F0FE;\n",
              "    border: none;\n",
              "    border-radius: 50%;\n",
              "    cursor: pointer;\n",
              "    display: none;\n",
              "    fill: #1967D2;\n",
              "    height: 32px;\n",
              "    padding: 0 0 0 0;\n",
              "    width: 32px;\n",
              "  }\n",
              "\n",
              "  .colab-df-quickchart:hover {\n",
              "    background-color: #E2EBFA;\n",
              "    box-shadow: 0px 1px 2px rgba(60, 64, 67, 0.3), 0px 1px 3px 1px rgba(60, 64, 67, 0.15);\n",
              "    fill: #174EA6;\n",
              "  }\n",
              "\n",
              "  [theme=dark] .colab-df-quickchart {\n",
              "    background-color: #3B4455;\n",
              "    fill: #D2E3FC;\n",
              "  }\n",
              "\n",
              "  [theme=dark] .colab-df-quickchart:hover {\n",
              "    background-color: #434B5C;\n",
              "    box-shadow: 0px 1px 3px 1px rgba(0, 0, 0, 0.15);\n",
              "    filter: drop-shadow(0px 1px 2px rgba(0, 0, 0, 0.3));\n",
              "    fill: #FFFFFF;\n",
              "  }\n",
              "</style>\n",
              "\n",
              "    <script>\n",
              "      async function quickchart(key) {\n",
              "        const containerElement = document.querySelector('#' + key);\n",
              "        const charts = await google.colab.kernel.invokeFunction(\n",
              "            'suggestCharts', [key], {});\n",
              "      }\n",
              "    </script>\n",
              "\n",
              "      <script>\n",
              "\n",
              "function displayQuickchartButton(domScope) {\n",
              "  let quickchartButtonEl =\n",
              "    domScope.querySelector('#df-d3718367-388d-4f71-8892-faa853254977 button.colab-df-quickchart');\n",
              "  quickchartButtonEl.style.display =\n",
              "    google.colab.kernel.accessAllowed ? 'block' : 'none';\n",
              "}\n",
              "\n",
              "        displayQuickchartButton(document);\n",
              "      </script>\n",
              "      <style>\n",
              "    .colab-df-container {\n",
              "      display:flex;\n",
              "      flex-wrap:wrap;\n",
              "      gap: 12px;\n",
              "    }\n",
              "\n",
              "    .colab-df-convert {\n",
              "      background-color: #E8F0FE;\n",
              "      border: none;\n",
              "      border-radius: 50%;\n",
              "      cursor: pointer;\n",
              "      display: none;\n",
              "      fill: #1967D2;\n",
              "      height: 32px;\n",
              "      padding: 0 0 0 0;\n",
              "      width: 32px;\n",
              "    }\n",
              "\n",
              "    .colab-df-convert:hover {\n",
              "      background-color: #E2EBFA;\n",
              "      box-shadow: 0px 1px 2px rgba(60, 64, 67, 0.3), 0px 1px 3px 1px rgba(60, 64, 67, 0.15);\n",
              "      fill: #174EA6;\n",
              "    }\n",
              "\n",
              "    [theme=dark] .colab-df-convert {\n",
              "      background-color: #3B4455;\n",
              "      fill: #D2E3FC;\n",
              "    }\n",
              "\n",
              "    [theme=dark] .colab-df-convert:hover {\n",
              "      background-color: #434B5C;\n",
              "      box-shadow: 0px 1px 3px 1px rgba(0, 0, 0, 0.15);\n",
              "      filter: drop-shadow(0px 1px 2px rgba(0, 0, 0, 0.3));\n",
              "      fill: #FFFFFF;\n",
              "    }\n",
              "  </style>\n",
              "\n",
              "      <script>\n",
              "        const buttonEl =\n",
              "          document.querySelector('#df-0373ecbe-f4a1-4898-8394-761777585fb8 button.colab-df-convert');\n",
              "        buttonEl.style.display =\n",
              "          google.colab.kernel.accessAllowed ? 'block' : 'none';\n",
              "\n",
              "        async function convertToInteractive(key) {\n",
              "          const element = document.querySelector('#df-0373ecbe-f4a1-4898-8394-761777585fb8');\n",
              "          const dataTable =\n",
              "            await google.colab.kernel.invokeFunction('convertToInteractive',\n",
              "                                                     [key], {});\n",
              "          if (!dataTable) return;\n",
              "\n",
              "          const docLinkHtml = 'Like what you see? Visit the ' +\n",
              "            '<a target=\"_blank\" href=https://colab.research.google.com/notebooks/data_table.ipynb>data table notebook</a>'\n",
              "            + ' to learn more about interactive tables.';\n",
              "          element.innerHTML = '';\n",
              "          dataTable['output_type'] = 'display_data';\n",
              "          await google.colab.output.renderOutput(dataTable, element);\n",
              "          const docLink = document.createElement('div');\n",
              "          docLink.innerHTML = docLinkHtml;\n",
              "          element.appendChild(docLink);\n",
              "        }\n",
              "      </script>\n",
              "    </div>\n",
              "  </div>\n"
            ]
          },
          "metadata": {},
          "execution_count": 5
        }
      ]
    },
    {
      "cell_type": "code",
      "source": [
        "Data.isnull().value_counts()"
      ],
      "metadata": {
        "colab": {
          "base_uri": "https://localhost:8080/"
        },
        "id": "h3Xys04R1GZa",
        "outputId": "8b4a866b-ccd2-4482-de70-57ce42513656"
      },
      "execution_count": 6,
      "outputs": [
        {
          "output_type": "execute_result",
          "data": {
            "text/plain": [
              "AT     AP     AH     AFDP   GTEP   TIT    TAT    TEY    CDP    CO     NOX  \n",
              "False  False  False  False  False  False  False  False  False  False  False    15039\n",
              "dtype: int64"
            ]
          },
          "metadata": {},
          "execution_count": 6
        }
      ]
    },
    {
      "cell_type": "code",
      "source": [
        "Data[Data.duplicated]"
      ],
      "metadata": {
        "colab": {
          "base_uri": "https://localhost:8080/",
          "height": 49
        },
        "id": "bdihT2KI1M49",
        "outputId": "8cd99f56-7938-423c-d6fc-2ae5c2689504"
      },
      "execution_count": 7,
      "outputs": [
        {
          "output_type": "execute_result",
          "data": {
            "text/plain": [
              "Empty DataFrame\n",
              "Columns: [AT, AP, AH, AFDP, GTEP, TIT, TAT, TEY, CDP, CO, NOX]\n",
              "Index: []"
            ],
            "text/html": [
              "\n",
              "\n",
              "  <div id=\"df-b07453e7-1f59-418c-a7d7-94d4d5e2120d\">\n",
              "    <div class=\"colab-df-container\">\n",
              "      <div>\n",
              "<style scoped>\n",
              "    .dataframe tbody tr th:only-of-type {\n",
              "        vertical-align: middle;\n",
              "    }\n",
              "\n",
              "    .dataframe tbody tr th {\n",
              "        vertical-align: top;\n",
              "    }\n",
              "\n",
              "    .dataframe thead th {\n",
              "        text-align: right;\n",
              "    }\n",
              "</style>\n",
              "<table border=\"1\" class=\"dataframe\">\n",
              "  <thead>\n",
              "    <tr style=\"text-align: right;\">\n",
              "      <th></th>\n",
              "      <th>AT</th>\n",
              "      <th>AP</th>\n",
              "      <th>AH</th>\n",
              "      <th>AFDP</th>\n",
              "      <th>GTEP</th>\n",
              "      <th>TIT</th>\n",
              "      <th>TAT</th>\n",
              "      <th>TEY</th>\n",
              "      <th>CDP</th>\n",
              "      <th>CO</th>\n",
              "      <th>NOX</th>\n",
              "    </tr>\n",
              "  </thead>\n",
              "  <tbody>\n",
              "  </tbody>\n",
              "</table>\n",
              "</div>\n",
              "      <button class=\"colab-df-convert\" onclick=\"convertToInteractive('df-b07453e7-1f59-418c-a7d7-94d4d5e2120d')\"\n",
              "              title=\"Convert this dataframe to an interactive table.\"\n",
              "              style=\"display:none;\">\n",
              "\n",
              "  <svg xmlns=\"http://www.w3.org/2000/svg\" height=\"24px\"viewBox=\"0 0 24 24\"\n",
              "       width=\"24px\">\n",
              "    <path d=\"M0 0h24v24H0V0z\" fill=\"none\"/>\n",
              "    <path d=\"M18.56 5.44l.94 2.06.94-2.06 2.06-.94-2.06-.94-.94-2.06-.94 2.06-2.06.94zm-11 1L8.5 8.5l.94-2.06 2.06-.94-2.06-.94L8.5 2.5l-.94 2.06-2.06.94zm10 10l.94 2.06.94-2.06 2.06-.94-2.06-.94-.94-2.06-.94 2.06-2.06.94z\"/><path d=\"M17.41 7.96l-1.37-1.37c-.4-.4-.92-.59-1.43-.59-.52 0-1.04.2-1.43.59L10.3 9.45l-7.72 7.72c-.78.78-.78 2.05 0 2.83L4 21.41c.39.39.9.59 1.41.59.51 0 1.02-.2 1.41-.59l7.78-7.78 2.81-2.81c.8-.78.8-2.07 0-2.86zM5.41 20L4 18.59l7.72-7.72 1.47 1.35L5.41 20z\"/>\n",
              "  </svg>\n",
              "      </button>\n",
              "\n",
              "\n",
              "\n",
              "    <div id=\"df-ad0e5e14-5bac-4ca7-8dc1-d93b8aa3534e\">\n",
              "      <button class=\"colab-df-quickchart\" onclick=\"quickchart('df-ad0e5e14-5bac-4ca7-8dc1-d93b8aa3534e')\"\n",
              "              title=\"Suggest charts.\"\n",
              "              style=\"display:none;\">\n",
              "\n",
              "<svg xmlns=\"http://www.w3.org/2000/svg\" height=\"24px\"viewBox=\"0 0 24 24\"\n",
              "     width=\"24px\">\n",
              "    <g>\n",
              "        <path d=\"M19 3H5c-1.1 0-2 .9-2 2v14c0 1.1.9 2 2 2h14c1.1 0 2-.9 2-2V5c0-1.1-.9-2-2-2zM9 17H7v-7h2v7zm4 0h-2V7h2v10zm4 0h-2v-4h2v4z\"/>\n",
              "    </g>\n",
              "</svg>\n",
              "      </button>\n",
              "    </div>\n",
              "\n",
              "<style>\n",
              "  .colab-df-quickchart {\n",
              "    background-color: #E8F0FE;\n",
              "    border: none;\n",
              "    border-radius: 50%;\n",
              "    cursor: pointer;\n",
              "    display: none;\n",
              "    fill: #1967D2;\n",
              "    height: 32px;\n",
              "    padding: 0 0 0 0;\n",
              "    width: 32px;\n",
              "  }\n",
              "\n",
              "  .colab-df-quickchart:hover {\n",
              "    background-color: #E2EBFA;\n",
              "    box-shadow: 0px 1px 2px rgba(60, 64, 67, 0.3), 0px 1px 3px 1px rgba(60, 64, 67, 0.15);\n",
              "    fill: #174EA6;\n",
              "  }\n",
              "\n",
              "  [theme=dark] .colab-df-quickchart {\n",
              "    background-color: #3B4455;\n",
              "    fill: #D2E3FC;\n",
              "  }\n",
              "\n",
              "  [theme=dark] .colab-df-quickchart:hover {\n",
              "    background-color: #434B5C;\n",
              "    box-shadow: 0px 1px 3px 1px rgba(0, 0, 0, 0.15);\n",
              "    filter: drop-shadow(0px 1px 2px rgba(0, 0, 0, 0.3));\n",
              "    fill: #FFFFFF;\n",
              "  }\n",
              "</style>\n",
              "\n",
              "    <script>\n",
              "      async function quickchart(key) {\n",
              "        const containerElement = document.querySelector('#' + key);\n",
              "        const charts = await google.colab.kernel.invokeFunction(\n",
              "            'suggestCharts', [key], {});\n",
              "      }\n",
              "    </script>\n",
              "\n",
              "      <script>\n",
              "\n",
              "function displayQuickchartButton(domScope) {\n",
              "  let quickchartButtonEl =\n",
              "    domScope.querySelector('#df-ad0e5e14-5bac-4ca7-8dc1-d93b8aa3534e button.colab-df-quickchart');\n",
              "  quickchartButtonEl.style.display =\n",
              "    google.colab.kernel.accessAllowed ? 'block' : 'none';\n",
              "}\n",
              "\n",
              "        displayQuickchartButton(document);\n",
              "      </script>\n",
              "      <style>\n",
              "    .colab-df-container {\n",
              "      display:flex;\n",
              "      flex-wrap:wrap;\n",
              "      gap: 12px;\n",
              "    }\n",
              "\n",
              "    .colab-df-convert {\n",
              "      background-color: #E8F0FE;\n",
              "      border: none;\n",
              "      border-radius: 50%;\n",
              "      cursor: pointer;\n",
              "      display: none;\n",
              "      fill: #1967D2;\n",
              "      height: 32px;\n",
              "      padding: 0 0 0 0;\n",
              "      width: 32px;\n",
              "    }\n",
              "\n",
              "    .colab-df-convert:hover {\n",
              "      background-color: #E2EBFA;\n",
              "      box-shadow: 0px 1px 2px rgba(60, 64, 67, 0.3), 0px 1px 3px 1px rgba(60, 64, 67, 0.15);\n",
              "      fill: #174EA6;\n",
              "    }\n",
              "\n",
              "    [theme=dark] .colab-df-convert {\n",
              "      background-color: #3B4455;\n",
              "      fill: #D2E3FC;\n",
              "    }\n",
              "\n",
              "    [theme=dark] .colab-df-convert:hover {\n",
              "      background-color: #434B5C;\n",
              "      box-shadow: 0px 1px 3px 1px rgba(0, 0, 0, 0.15);\n",
              "      filter: drop-shadow(0px 1px 2px rgba(0, 0, 0, 0.3));\n",
              "      fill: #FFFFFF;\n",
              "    }\n",
              "  </style>\n",
              "\n",
              "      <script>\n",
              "        const buttonEl =\n",
              "          document.querySelector('#df-b07453e7-1f59-418c-a7d7-94d4d5e2120d button.colab-df-convert');\n",
              "        buttonEl.style.display =\n",
              "          google.colab.kernel.accessAllowed ? 'block' : 'none';\n",
              "\n",
              "        async function convertToInteractive(key) {\n",
              "          const element = document.querySelector('#df-b07453e7-1f59-418c-a7d7-94d4d5e2120d');\n",
              "          const dataTable =\n",
              "            await google.colab.kernel.invokeFunction('convertToInteractive',\n",
              "                                                     [key], {});\n",
              "          if (!dataTable) return;\n",
              "\n",
              "          const docLinkHtml = 'Like what you see? Visit the ' +\n",
              "            '<a target=\"_blank\" href=https://colab.research.google.com/notebooks/data_table.ipynb>data table notebook</a>'\n",
              "            + ' to learn more about interactive tables.';\n",
              "          element.innerHTML = '';\n",
              "          dataTable['output_type'] = 'display_data';\n",
              "          await google.colab.output.renderOutput(dataTable, element);\n",
              "          const docLink = document.createElement('div');\n",
              "          docLink.innerHTML = docLinkHtml;\n",
              "          element.appendChild(docLink);\n",
              "        }\n",
              "      </script>\n",
              "    </div>\n",
              "  </div>\n"
            ]
          },
          "metadata": {},
          "execution_count": 7
        }
      ]
    },
    {
      "cell_type": "code",
      "source": [
        "A = Data[[\"AT\", \"AP\", \"AH\", \"AFDP\", \"GTEP\", \"TIT\", \"TAT\", \"CDP\", \"CO\", \"NOX\"]]\n",
        "B = Data[[\"TEY\"]]"
      ],
      "metadata": {
        "id": "uOPgNqJ01M6q"
      },
      "execution_count": 8,
      "outputs": []
    },
    {
      "cell_type": "code",
      "source": [
        "plt.figure(figsize=(10,6))\n",
        "sns.heatmap(Data.corr(),annot=True,cmap='coolwarm')\n",
        "plt.show()"
      ],
      "metadata": {
        "colab": {
          "base_uri": "https://localhost:8080/",
          "height": 528
        },
        "id": "P_YPW-zz1Xlq",
        "outputId": "7e4f0d41-f421-4f37-c151-583144e5ab74"
      },
      "execution_count": 9,
      "outputs": [
        {
          "output_type": "display_data",
          "data": {
            "text/plain": [
              "<Figure size 1000x600 with 2 Axes>"
            ],
            "image/png": "[encoded data removed]"
          },
          "metadata": {}
        }
      ]
    },
    {
      "cell_type": "markdown",
      "source": [
        "Visualization of dataset"
      ],
      "metadata": {
        "id": "7S33blhN1dLR"
      }
    },
    {
      "cell_type": "code",
      "source": [
        "axs = plt.subplots(5, 2)[1].flatten()\n",
        "\n",
        "for i, ax in enumerate(axs):\n",
        "    ax.hist(A.iloc[:, i], label=A.columns[i])\n",
        "    ax.legend()\n",
        "\n",
        "plt.show()"
      ],
      "metadata": {
        "colab": {
          "base_uri": "https://localhost:8080/",
          "height": 435
        },
        "id": "wSsBYJLY1aVD",
        "outputId": "ff66868e-5a1e-4b7e-a128-0ee5e2cb64c0"
      },
      "execution_count": 10,
      "outputs": [
        {
          "output_type": "display_data",
          "data": {
            "text/plain": [
              "<Figure size 640x480 with 10 Axes>"
            ],
            "image/png": "[encoded data removed]"
          },
          "metadata": {}
        }
      ]
    },
    {
      "cell_type": "code",
      "source": [
        "fig,axs = plt.subplots(5, 2,figsize=(20, 10))\n",
        "axs = axs.ravel()\n",
        "for i, ax in enumerate(axs):\n",
        "\n",
        "    ax.boxplot(A.iloc[:, i])\n",
        "    ax.set_ylabel(A.columns[i])\n",
        "    ax.legend()\n",
        "\n",
        "plt.show()"
      ],
      "metadata": {
        "colab": {
          "base_uri": "https://localhost:8080/",
          "height": 833
        },
        "id": "gkg1FFpN1lmq",
        "outputId": "43d71005-a221-47e8-8e0d-babc6353853c"
      },
      "execution_count": 11,
      "outputs": [
        {
          "output_type": "stream",
          "name": "stderr",
          "text": [
            "WARNING:matplotlib.legend:No artists with labels found to put in legend.  Note that artists whose label start with an underscore are ignored when legend() is called with no argument.\n",
            "WARNING:matplotlib.legend:No artists with labels found to put in legend.  Note that artists whose label start with an underscore are ignored when legend() is called with no argument.\n",
            "WARNING:matplotlib.legend:No artists with labels found to put in legend.  Note that artists whose label start with an underscore are ignored when legend() is called with no argument.\n",
            "WARNING:matplotlib.legend:No artists with labels found to put in legend.  Note that artists whose label start with an underscore are ignored when legend() is called with no argument.\n",
            "WARNING:matplotlib.legend:No artists with labels found to put in legend.  Note that artists whose label start with an underscore are ignored when legend() is called with no argument.\n",
            "WARNING:matplotlib.legend:No artists with labels found to put in legend.  Note that artists whose label start with an underscore are ignored when legend() is called with no argument.\n",
            "WARNING:matplotlib.legend:No artists with labels found to put in legend.  Note that artists whose label start with an underscore are ignored when legend() is called with no argument.\n",
            "WARNING:matplotlib.legend:No artists with labels found to put in legend.  Note that artists whose label start with an underscore are ignored when legend() is called with no argument.\n",
            "WARNING:matplotlib.legend:No artists with labels found to put in legend.  Note that artists whose label start with an underscore are ignored when legend() is called with no argument.\n",
            "WARNING:matplotlib.legend:No artists with labels found to put in legend.  Note that artists whose label start with an underscore are ignored when legend() is called with no argument.\n"
          ]
        },
        {
          "output_type": "display_data",
          "data": {
            "text/plain": [
              "<Figure size 2000x1000 with 10 Axes>"
            ],
            "image/png": "[encoded data removed]"
          },
          "metadata": {}
        }
      ]
    },
    {
      "cell_type": "markdown",
      "source": [
        "Standardization of features"
      ],
      "metadata": {
        "id": "lTp56_Gv1xuq"
      }
    },
    {
      "cell_type": "code",
      "source": [
        "scale=StandardScaler()\n",
        "scaled_data=scale.fit_transform(Data)"
      ],
      "metadata": {
        "id": "XeGvQciM1s_a"
      },
      "execution_count": 12,
      "outputs": []
    },
    {
      "cell_type": "code",
      "source": [
        "scaled_data=pd.DataFrame(scaled_data,columns=Data.columns)\n",
        "scaled_data"
      ],
      "metadata": {
        "colab": {
          "base_uri": "https://localhost:8080/",
          "height": 424
        },
        "id": "rTqOcx_s17AL",
        "outputId": "42c05986-6b79-44e9-f71e-51b65e223246"
      },
      "execution_count": 13,
      "outputs": [
        {
          "output_type": "execute_result",
          "data": {
            "text/plain": [
              "             AT        AP        AH      AFDP      GTEP       TIT       TAT  \\\n",
              "0     -1.439778 -0.826644  1.281436 -0.921232 -1.379101 -1.488376  0.585240   \n",
              "1     -1.449601 -0.748647  1.304564 -0.921495 -1.363528 -1.482325  0.585240   \n",
              "2     -1.434721 -0.686250  1.219086 -0.944385 -1.351309 -1.476275  0.568715   \n",
              "3     -1.413702 -0.623853  1.169060 -0.946884 -1.348194 -1.464173  0.583969   \n",
              "4     -1.368693 -0.545857  1.161883 -0.924389 -1.354663 -1.458123  0.582698   \n",
              "...         ...       ...       ...       ...       ...       ...       ...   \n",
              "15034 -1.153182 -1.185428  1.401860 -0.865850 -1.498657 -2.063184  0.103453   \n",
              "15035 -1.303986 -1.138630  1.447753 -0.913470 -1.438759 -2.268905 -0.276638   \n",
              "15036 -1.386267 -1.076233  1.476971 -0.951488 -1.410967 -2.789257 -1.026650   \n",
              "15037 -1.420423 -0.998236  1.441590 -0.988848 -1.447624 -2.456474 -0.528337   \n",
              "15038 -1.430734 -0.935839  1.334652 -1.016605 -1.464635 -2.051083  0.057689   \n",
              "\n",
              "            TEY       CDP        CO       NOX  \n",
              "0     -1.231172 -1.357331  0.532012  1.387845  \n",
              "1     -1.229909 -1.363676  0.568733  1.393002  \n",
              "2     -1.230541 -1.360957  0.552938  1.363586  \n",
              "3     -1.229909 -1.356424  0.548933  1.382878  \n",
              "4     -1.229909 -1.350985  0.574179  1.348591  \n",
              "...         ...       ...       ...       ...  \n",
              "15034 -1.426381 -1.543161  1.145792  1.085751  \n",
              "15035 -1.415642 -1.513247  1.293578  1.119943  \n",
              "15036 -1.516089 -1.467922  2.695925  2.170062  \n",
              "15037 -1.481343 -1.422598  1.924683  2.391165  \n",
              "15038 -1.428277 -1.377273  1.354150  2.321539  \n",
              "\n",
              "[15039 rows x 11 columns]"
            ],
            "text/html": [
              "\n",
              "\n",
              "  <div id=\"df-23207dff-baed-48e0-9d66-ee851349f53a\">\n",
              "    <div class=\"colab-df-container\">\n",
              "      <div>\n",
              "<style scoped>\n",
              "    .dataframe tbody tr th:only-of-type {\n",
              "        vertical-align: middle;\n",
              "    }\n",
              "\n",
              "    .dataframe tbody tr th {\n",
              "        vertical-align: top;\n",
              "    }\n",
              "\n",
              "    .dataframe thead th {\n",
              "        text-align: right;\n",
              "    }\n",
              "</style>\n",
              "<table border=\"1\" class=\"dataframe\">\n",
              "  <thead>\n",
              "    <tr style=\"text-align: right;\">\n",
              "      <th></th>\n",
              "      <th>AT</th>\n",
              "      <th>AP</th>\n",
              "      <th>AH</th>\n",
              "      <th>AFDP</th>\n",
              "      <th>GTEP</th>\n",
              "      <th>TIT</th>\n",
              "      <th>TAT</th>\n",
              "      <th>TEY</th>\n",
              "      <th>CDP</th>\n",
              "      <th>CO</th>\n",
              "      <th>NOX</th>\n",
              "    </tr>\n",
              "  </thead>\n",
              "  <tbody>\n",
              "    <tr>\n",
              "      <th>0</th>\n",
              "      <td>-1.439778</td>\n",
              "      <td>-0.826644</td>\n",
              "      <td>1.281436</td>\n",
              "      <td>-0.921232</td>\n",
              "      <td>-1.379101</td>\n",
              "      <td>-1.488376</td>\n",
              "      <td>0.585240</td>\n",
              "      <td>-1.231172</td>\n",
              "      <td>-1.357331</td>\n",
              "      <td>0.532012</td>\n",
              "      <td>1.387845</td>\n",
              "    </tr>\n",
              "    <tr>\n",
              "      <th>1</th>\n",
              "      <td>-1.449601</td>\n",
              "      <td>-0.748647</td>\n",
              "      <td>1.304564</td>\n",
              "      <td>-0.921495</td>\n",
              "      <td>-1.363528</td>\n",
              "      <td>-1.482325</td>\n",
              "      <td>0.585240</td>\n",
              "      <td>-1.229909</td>\n",
              "      <td>-1.363676</td>\n",
              "      <td>0.568733</td>\n",
              "      <td>1.393002</td>\n",
              "    </tr>\n",
              "    <tr>\n",
              "      <th>2</th>\n",
              "      <td>-1.434721</td>\n",
              "      <td>-0.686250</td>\n",
              "      <td>1.219086</td>\n",
              "      <td>-0.944385</td>\n",
              "      <td>-1.351309</td>\n",
              "      <td>-1.476275</td>\n",
              "      <td>0.568715</td>\n",
              "      <td>-1.230541</td>\n",
              "      <td>-1.360957</td>\n",
              "      <td>0.552938</td>\n",
              "      <td>1.363586</td>\n",
              "    </tr>\n",
              "    <tr>\n",
              "      <th>3</th>\n",
              "      <td>-1.413702</td>\n",
              "      <td>-0.623853</td>\n",
              "      <td>1.169060</td>\n",
              "      <td>-0.946884</td>\n",
              "      <td>-1.348194</td>\n",
              "      <td>-1.464173</td>\n",
              "      <td>0.583969</td>\n",
              "      <td>-1.229909</td>\n",
              "      <td>-1.356424</td>\n",
              "      <td>0.548933</td>\n",
              "      <td>1.382878</td>\n",
              "    </tr>\n",
              "    <tr>\n",
              "      <th>4</th>\n",
              "      <td>-1.368693</td>\n",
              "      <td>-0.545857</td>\n",
              "      <td>1.161883</td>\n",
              "      <td>-0.924389</td>\n",
              "      <td>-1.354663</td>\n",
              "      <td>-1.458123</td>\n",
              "      <td>0.582698</td>\n",
              "      <td>-1.229909</td>\n",
              "      <td>-1.350985</td>\n",
              "      <td>0.574179</td>\n",
              "      <td>1.348591</td>\n",
              "    </tr>\n",
              "    <tr>\n",
              "      <th>...</th>\n",
              "      <td>...</td>\n",
              "      <td>...</td>\n",
              "      <td>...</td>\n",
              "      <td>...</td>\n",
              "      <td>...</td>\n",
              "      <td>...</td>\n",
              "      <td>...</td>\n",
              "      <td>...</td>\n",
              "      <td>...</td>\n",
              "      <td>...</td>\n",
              "      <td>...</td>\n",
              "    </tr>\n",
              "    <tr>\n",
              "      <th>15034</th>\n",
              "      <td>-1.153182</td>\n",
              "      <td>-1.185428</td>\n",
              "      <td>1.401860</td>\n",
              "      <td>-0.865850</td>\n",
              "      <td>-1.498657</td>\n",
              "      <td>-2.063184</td>\n",
              "      <td>0.103453</td>\n",
              "      <td>-1.426381</td>\n",
              "      <td>-1.543161</td>\n",
              "      <td>1.145792</td>\n",
              "      <td>1.085751</td>\n",
              "    </tr>\n",
              "    <tr>\n",
              "      <th>15035</th>\n",
              "      <td>-1.303986</td>\n",
              "      <td>-1.138630</td>\n",
              "      <td>1.447753</td>\n",
              "      <td>-0.913470</td>\n",
              "      <td>-1.438759</td>\n",
              "      <td>-2.268905</td>\n",
              "      <td>-0.276638</td>\n",
              "      <td>-1.415642</td>\n",
              "      <td>-1.513247</td>\n",
              "      <td>1.293578</td>\n",
              "      <td>1.119943</td>\n",
              "    </tr>\n",
              "    <tr>\n",
              "      <th>15036</th>\n",
              "      <td>-1.386267</td>\n",
              "      <td>-1.076233</td>\n",
              "      <td>1.476971</td>\n",
              "      <td>-0.951488</td>\n",
              "      <td>-1.410967</td>\n",
              "      <td>-2.789257</td>\n",
              "      <td>-1.026650</td>\n",
              "      <td>-1.516089</td>\n",
              "      <td>-1.467922</td>\n",
              "      <td>2.695925</td>\n",
              "      <td>2.170062</td>\n",
              "    </tr>\n",
              "    <tr>\n",
              "      <th>15037</th>\n",
              "      <td>-1.420423</td>\n",
              "      <td>-0.998236</td>\n",
              "      <td>1.441590</td>\n",
              "      <td>-0.988848</td>\n",
              "      <td>-1.447624</td>\n",
              "      <td>-2.456474</td>\n",
              "      <td>-0.528337</td>\n",
              "      <td>-1.481343</td>\n",
              "      <td>-1.422598</td>\n",
              "      <td>1.924683</td>\n",
              "      <td>2.391165</td>\n",
              "    </tr>\n",
              "    <tr>\n",
              "      <th>15038</th>\n",
              "      <td>-1.430734</td>\n",
              "      <td>-0.935839</td>\n",
              "      <td>1.334652</td>\n",
              "      <td>-1.016605</td>\n",
              "      <td>-1.464635</td>\n",
              "      <td>-2.051083</td>\n",
              "      <td>0.057689</td>\n",
              "      <td>-1.428277</td>\n",
              "      <td>-1.377273</td>\n",
              "      <td>1.354150</td>\n",
              "      <td>2.321539</td>\n",
              "    </tr>\n",
              "  </tbody>\n",
              "</table>\n",
              "<p>15039 rows × 11 columns</p>\n",
              "</div>\n",
              "      <button class=\"colab-df-convert\" onclick=\"convertToInteractive('df-23207dff-baed-48e0-9d66-ee851349f53a')\"\n",
              "              title=\"Convert this dataframe to an interactive table.\"\n",
              "              style=\"display:none;\">\n",
              "\n",
              "  <svg xmlns=\"http://www.w3.org/2000/svg\" height=\"24px\"viewBox=\"0 0 24 24\"\n",
              "       width=\"24px\">\n",
              "    <path d=\"M0 0h24v24H0V0z\" fill=\"none\"/>\n",
              "    <path d=\"M18.56 5.44l.94 2.06.94-2.06 2.06-.94-2.06-.94-.94-2.06-.94 2.06-2.06.94zm-11 1L8.5 8.5l.94-2.06 2.06-.94-2.06-.94L8.5 2.5l-.94 2.06-2.06.94zm10 10l.94 2.06.94-2.06 2.06-.94-2.06-.94-.94-2.06-.94 2.06-2.06.94z\"/><path d=\"M17.41 7.96l-1.37-1.37c-.4-.4-.92-.59-1.43-.59-.52 0-1.04.2-1.43.59L10.3 9.45l-7.72 7.72c-.78.78-.78 2.05 0 2.83L4 21.41c.39.39.9.59 1.41.59.51 0 1.02-.2 1.41-.59l7.78-7.78 2.81-2.81c.8-.78.8-2.07 0-2.86zM5.41 20L4 18.59l7.72-7.72 1.47 1.35L5.41 20z\"/>\n",
              "  </svg>\n",
              "      </button>\n",
              "\n",
              "\n",
              "\n",
              "    <div id=\"df-1ddb4e19-d72f-4fcd-a33b-de1ea44b20c4\">\n",
              "      <button class=\"colab-df-quickchart\" onclick=\"quickchart('df-1ddb4e19-d72f-4fcd-a33b-de1ea44b20c4')\"\n",
              "              title=\"Suggest charts.\"\n",
              "              style=\"display:none;\">\n",
              "\n",
              "<svg xmlns=\"http://www.w3.org/2000/svg\" height=\"24px\"viewBox=\"0 0 24 24\"\n",
              "     width=\"24px\">\n",
              "    <g>\n",
              "        <path d=\"M19 3H5c-1.1 0-2 .9-2 2v14c0 1.1.9 2 2 2h14c1.1 0 2-.9 2-2V5c0-1.1-.9-2-2-2zM9 17H7v-7h2v7zm4 0h-2V7h2v10zm4 0h-2v-4h2v4z\"/>\n",
              "    </g>\n",
              "</svg>\n",
              "      </button>\n",
              "    </div>\n",
              "\n",
              "<style>\n",
              "  .colab-df-quickchart {\n",
              "    background-color: #E8F0FE;\n",
              "    border: none;\n",
              "    border-radius: 50%;\n",
              "    cursor: pointer;\n",
              "    display: none;\n",
              "    fill: #1967D2;\n",
              "    height: 32px;\n",
              "    padding: 0 0 0 0;\n",
              "    width: 32px;\n",
              "  }\n",
              "\n",
              "  .colab-df-quickchart:hover {\n",
              "    background-color: #E2EBFA;\n",
              "    box-shadow: 0px 1px 2px rgba(60, 64, 67, 0.3), 0px 1px 3px 1px rgba(60, 64, 67, 0.15);\n",
              "    fill: #174EA6;\n",
              "  }\n",
              "\n",
              "  [theme=dark] .colab-df-quickchart {\n",
              "    background-color: #3B4455;\n",
              "    fill: #D2E3FC;\n",
              "  }\n",
              "\n",
              "  [theme=dark] .colab-df-quickchart:hover {\n",
              "    background-color: #434B5C;\n",
              "    box-shadow: 0px 1px 3px 1px rgba(0, 0, 0, 0.15);\n",
              "    filter: drop-shadow(0px 1px 2px rgba(0, 0, 0, 0.3));\n",
              "    fill: #FFFFFF;\n",
              "  }\n",
              "</style>\n",
              "\n",
              "    <script>\n",
              "      async function quickchart(key) {\n",
              "        const containerElement = document.querySelector('#' + key);\n",
              "        const charts = await google.colab.kernel.invokeFunction(\n",
              "            'suggestCharts', [key], {});\n",
              "      }\n",
              "    </script>\n",
              "\n",
              "      <script>\n",
              "\n",
              "function displayQuickchartButton(domScope) {\n",
              "  let quickchartButtonEl =\n",
              "    domScope.querySelector('#df-1ddb4e19-d72f-4fcd-a33b-de1ea44b20c4 button.colab-df-quickchart');\n",
              "  quickchartButtonEl.style.display =\n",
              "    google.colab.kernel.accessAllowed ? 'block' : 'none';\n",
              "}\n",
              "\n",
              "        displayQuickchartButton(document);\n",
              "      </script>\n",
              "      <style>\n",
              "    .colab-df-container {\n",
              "      display:flex;\n",
              "      flex-wrap:wrap;\n",
              "      gap: 12px;\n",
              "    }\n",
              "\n",
              "    .colab-df-convert {\n",
              "      background-color: #E8F0FE;\n",
              "      border: none;\n",
              "      border-radius: 50%;\n",
              "      cursor: pointer;\n",
              "      display: none;\n",
              "      fill: #1967D2;\n",
              "      height: 32px;\n",
              "      padding: 0 0 0 0;\n",
              "      width: 32px;\n",
              "    }\n",
              "\n",
              "    .colab-df-convert:hover {\n",
              "      background-color: #E2EBFA;\n",
              "      box-shadow: 0px 1px 2px rgba(60, 64, 67, 0.3), 0px 1px 3px 1px rgba(60, 64, 67, 0.15);\n",
              "      fill: #174EA6;\n",
              "    }\n",
              "\n",
              "    [theme=dark] .colab-df-convert {\n",
              "      background-color: #3B4455;\n",
              "      fill: #D2E3FC;\n",
              "    }\n",
              "\n",
              "    [theme=dark] .colab-df-convert:hover {\n",
              "      background-color: #434B5C;\n",
              "      box-shadow: 0px 1px 3px 1px rgba(0, 0, 0, 0.15);\n",
              "      filter: drop-shadow(0px 1px 2px rgba(0, 0, 0, 0.3));\n",
              "      fill: #FFFFFF;\n",
              "    }\n",
              "  </style>\n",
              "\n",
              "      <script>\n",
              "        const buttonEl =\n",
              "          document.querySelector('#df-23207dff-baed-48e0-9d66-ee851349f53a button.colab-df-convert');\n",
              "        buttonEl.style.display =\n",
              "          google.colab.kernel.accessAllowed ? 'block' : 'none';\n",
              "\n",
              "        async function convertToInteractive(key) {\n",
              "          const element = document.querySelector('#df-23207dff-baed-48e0-9d66-ee851349f53a');\n",
              "          const dataTable =\n",
              "            await google.colab.kernel.invokeFunction('convertToInteractive',\n",
              "                                                     [key], {});\n",
              "          if (!dataTable) return;\n",
              "\n",
              "          const docLinkHtml = 'Like what you see? Visit the ' +\n",
              "            '<a target=\"_blank\" href=https://colab.research.google.com/notebooks/data_table.ipynb>data table notebook</a>'\n",
              "            + ' to learn more about interactive tables.';\n",
              "          element.innerHTML = '';\n",
              "          dataTable['output_type'] = 'display_data';\n",
              "          await google.colab.output.renderOutput(dataTable, element);\n",
              "          const docLink = document.createElement('div');\n",
              "          docLink.innerHTML = docLinkHtml;\n",
              "          element.appendChild(docLink);\n",
              "        }\n",
              "      </script>\n",
              "    </div>\n",
              "  </div>\n"
            ]
          },
          "metadata": {},
          "execution_count": 13
        }
      ]
    },
    {
      "cell_type": "code",
      "source": [
        "X =scaled_data[[\"AT\", \"AP\", \"AH\", \"AFDP\", \"GTEP\", \"TIT\", \"TAT\", \"CDP\", \"CO\", \"NOX\"]]\n",
        "Y =scaled_data[[\"TEY\"]]"
      ],
      "metadata": {
        "id": "eZEmXT_f1-si"
      },
      "execution_count": 14,
      "outputs": []
    },
    {
      "cell_type": "code",
      "source": [
        "X.head(10)"
      ],
      "metadata": {
        "colab": {
          "base_uri": "https://localhost:8080/",
          "height": 363
        },
        "id": "ZlmVyGoR2Dgt",
        "outputId": "56887f35-5bd3-4ad8-b5b9-e9caf09c5507"
      },
      "execution_count": 15,
      "outputs": [
        {
          "output_type": "execute_result",
          "data": {
            "text/plain": [
              "         AT        AP        AH      AFDP      GTEP       TIT       TAT  \\\n",
              "0 -1.439778 -0.826644  1.281436 -0.921232 -1.379101 -1.488376  0.585240   \n",
              "1 -1.449601 -0.748647  1.304564 -0.921495 -1.363528 -1.482325  0.585240   \n",
              "2 -1.434721 -0.686250  1.219086 -0.944385 -1.351309 -1.476275  0.568715   \n",
              "3 -1.413702 -0.623853  1.169060 -0.946884 -1.348194 -1.464173  0.583969   \n",
              "4 -1.368693 -0.545857  1.161883 -0.924389 -1.354663 -1.458123  0.582698   \n",
              "5 -1.328821 -0.389864  0.984836 -0.890186 -1.374309 -1.452072  0.581427   \n",
              "6 -1.316898 -0.249470  0.932273 -0.882030 -1.380060 -1.439971  0.568715   \n",
              "7 -1.326959 -0.077878  0.886235 -0.909656 -1.376705 -1.452072  0.575071   \n",
              "8 -1.315921  0.093714  0.802715 -0.902683 -1.386049 -1.433920  0.596681   \n",
              "9 -1.278359  0.280906  0.686786 -0.182977 -0.482312 -0.048330  0.611936   \n",
              "\n",
              "        CDP        CO       NOX  \n",
              "0 -1.357331  0.532012  1.387845  \n",
              "1 -1.363676  0.568733  1.393002  \n",
              "2 -1.360957  0.552938  1.363586  \n",
              "3 -1.356424  0.548933  1.382878  \n",
              "4 -1.350985  0.574179  1.348591  \n",
              "5 -1.338295  0.663417  1.357951  \n",
              "6 -1.321978  0.681733  1.360911  \n",
              "7 -1.311100  0.734340  1.415351  \n",
              "8 -1.321978  0.639836  1.346012  \n",
              "9 -0.383764 -0.028981  1.393575  "
            ],
            "text/html": [
              "\n",
              "\n",
              "  <div id=\"df-17456924-3bc7-4efe-806f-9ba9c698ebd2\">\n",
              "    <div class=\"colab-df-container\">\n",
              "      <div>\n",
              "<style scoped>\n",
              "    .dataframe tbody tr th:only-of-type {\n",
              "        vertical-align: middle;\n",
              "    }\n",
              "\n",
              "    .dataframe tbody tr th {\n",
              "        vertical-align: top;\n",
              "    }\n",
              "\n",
              "    .dataframe thead th {\n",
              "        text-align: right;\n",
              "    }\n",
              "</style>\n",
              "<table border=\"1\" class=\"dataframe\">\n",
              "  <thead>\n",
              "    <tr style=\"text-align: right;\">\n",
              "      <th></th>\n",
              "      <th>AT</th>\n",
              "      <th>AP</th>\n",
              "      <th>AH</th>\n",
              "      <th>AFDP</th>\n",
              "      <th>GTEP</th>\n",
              "      <th>TIT</th>\n",
              "      <th>TAT</th>\n",
              "      <th>CDP</th>\n",
              "      <th>CO</th>\n",
              "      <th>NOX</th>\n",
              "    </tr>\n",
              "  </thead>\n",
              "  <tbody>\n",
              "    <tr>\n",
              "      <th>0</th>\n",
              "      <td>-1.439778</td>\n",
              "      <td>-0.826644</td>\n",
              "      <td>1.281436</td>\n",
              "      <td>-0.921232</td>\n",
              "      <td>-1.379101</td>\n",
              "      <td>-1.488376</td>\n",
              "      <td>0.585240</td>\n",
              "      <td>-1.357331</td>\n",
              "      <td>0.532012</td>\n",
              "      <td>1.387845</td>\n",
              "    </tr>\n",
              "    <tr>\n",
              "      <th>1</th>\n",
              "      <td>-1.449601</td>\n",
              "      <td>-0.748647</td>\n",
              "      <td>1.304564</td>\n",
              "      <td>-0.921495</td>\n",
              "      <td>-1.363528</td>\n",
              "      <td>-1.482325</td>\n",
              "      <td>0.585240</td>\n",
              "      <td>-1.363676</td>\n",
              "      <td>0.568733</td>\n",
              "      <td>1.393002</td>\n",
              "    </tr>\n",
              "    <tr>\n",
              "      <th>2</th>\n",
              "      <td>-1.434721</td>\n",
              "      <td>-0.686250</td>\n",
              "      <td>1.219086</td>\n",
              "      <td>-0.944385</td>\n",
              "      <td>-1.351309</td>\n",
              "      <td>-1.476275</td>\n",
              "      <td>0.568715</td>\n",
              "      <td>-1.360957</td>\n",
              "      <td>0.552938</td>\n",
              "      <td>1.363586</td>\n",
              "    </tr>\n",
              "    <tr>\n",
              "      <th>3</th>\n",
              "      <td>-1.413702</td>\n",
              "      <td>-0.623853</td>\n",
              "      <td>1.169060</td>\n",
              "      <td>-0.946884</td>\n",
              "      <td>-1.348194</td>\n",
              "      <td>-1.464173</td>\n",
              "      <td>0.583969</td>\n",
              "      <td>-1.356424</td>\n",
              "      <td>0.548933</td>\n",
              "      <td>1.382878</td>\n",
              "    </tr>\n",
              "    <tr>\n",
              "      <th>4</th>\n",
              "      <td>-1.368693</td>\n",
              "      <td>-0.545857</td>\n",
              "      <td>1.161883</td>\n",
              "      <td>-0.924389</td>\n",
              "      <td>-1.354663</td>\n",
              "      <td>-1.458123</td>\n",
              "      <td>0.582698</td>\n",
              "      <td>-1.350985</td>\n",
              "      <td>0.574179</td>\n",
              "      <td>1.348591</td>\n",
              "    </tr>\n",
              "    <tr>\n",
              "      <th>5</th>\n",
              "      <td>-1.328821</td>\n",
              "      <td>-0.389864</td>\n",
              "      <td>0.984836</td>\n",
              "      <td>-0.890186</td>\n",
              "      <td>-1.374309</td>\n",
              "      <td>-1.452072</td>\n",
              "      <td>0.581427</td>\n",
              "      <td>-1.338295</td>\n",
              "      <td>0.663417</td>\n",
              "      <td>1.357951</td>\n",
              "    </tr>\n",
              "    <tr>\n",
              "      <th>6</th>\n",
              "      <td>-1.316898</td>\n",
              "      <td>-0.249470</td>\n",
              "      <td>0.932273</td>\n",
              "      <td>-0.882030</td>\n",
              "      <td>-1.380060</td>\n",
              "      <td>-1.439971</td>\n",
              "      <td>0.568715</td>\n",
              "      <td>-1.321978</td>\n",
              "      <td>0.681733</td>\n",
              "      <td>1.360911</td>\n",
              "    </tr>\n",
              "    <tr>\n",
              "      <th>7</th>\n",
              "      <td>-1.326959</td>\n",
              "      <td>-0.077878</td>\n",
              "      <td>0.886235</td>\n",
              "      <td>-0.909656</td>\n",
              "      <td>-1.376705</td>\n",
              "      <td>-1.452072</td>\n",
              "      <td>0.575071</td>\n",
              "      <td>-1.311100</td>\n",
              "      <td>0.734340</td>\n",
              "      <td>1.415351</td>\n",
              "    </tr>\n",
              "    <tr>\n",
              "      <th>8</th>\n",
              "      <td>-1.315921</td>\n",
              "      <td>0.093714</td>\n",
              "      <td>0.802715</td>\n",
              "      <td>-0.902683</td>\n",
              "      <td>-1.386049</td>\n",
              "      <td>-1.433920</td>\n",
              "      <td>0.596681</td>\n",
              "      <td>-1.321978</td>\n",
              "      <td>0.639836</td>\n",
              "      <td>1.346012</td>\n",
              "    </tr>\n",
              "    <tr>\n",
              "      <th>9</th>\n",
              "      <td>-1.278359</td>\n",
              "      <td>0.280906</td>\n",
              "      <td>0.686786</td>\n",
              "      <td>-0.182977</td>\n",
              "      <td>-0.482312</td>\n",
              "      <td>-0.048330</td>\n",
              "      <td>0.611936</td>\n",
              "      <td>-0.383764</td>\n",
              "      <td>-0.028981</td>\n",
              "      <td>1.393575</td>\n",
              "    </tr>\n",
              "  </tbody>\n",
              "</table>\n",
              "</div>\n",
              "      <button class=\"colab-df-convert\" onclick=\"convertToInteractive('df-17456924-3bc7-4efe-806f-9ba9c698ebd2')\"\n",
              "              title=\"Convert this dataframe to an interactive table.\"\n",
              "              style=\"display:none;\">\n",
              "\n",
              "  <svg xmlns=\"http://www.w3.org/2000/svg\" height=\"24px\"viewBox=\"0 0 24 24\"\n",
              "       width=\"24px\">\n",
              "    <path d=\"M0 0h24v24H0V0z\" fill=\"none\"/>\n",
              "    <path d=\"M18.56 5.44l.94 2.06.94-2.06 2.06-.94-2.06-.94-.94-2.06-.94 2.06-2.06.94zm-11 1L8.5 8.5l.94-2.06 2.06-.94-2.06-.94L8.5 2.5l-.94 2.06-2.06.94zm10 10l.94 2.06.94-2.06 2.06-.94-2.06-.94-.94-2.06-.94 2.06-2.06.94z\"/><path d=\"M17.41 7.96l-1.37-1.37c-.4-.4-.92-.59-1.43-.59-.52 0-1.04.2-1.43.59L10.3 9.45l-7.72 7.72c-.78.78-.78 2.05 0 2.83L4 21.41c.39.39.9.59 1.41.59.51 0 1.02-.2 1.41-.59l7.78-7.78 2.81-2.81c.8-.78.8-2.07 0-2.86zM5.41 20L4 18.59l7.72-7.72 1.47 1.35L5.41 20z\"/>\n",
              "  </svg>\n",
              "      </button>\n",
              "\n",
              "\n",
              "\n",
              "    <div id=\"df-3f8a86ce-6aea-471b-8523-3c5d54eeb384\">\n",
              "      <button class=\"colab-df-quickchart\" onclick=\"quickchart('df-3f8a86ce-6aea-471b-8523-3c5d54eeb384')\"\n",
              "              title=\"Suggest charts.\"\n",
              "              style=\"display:none;\">\n",
              "\n",
              "<svg xmlns=\"http://www.w3.org/2000/svg\" height=\"24px\"viewBox=\"0 0 24 24\"\n",
              "     width=\"24px\">\n",
              "    <g>\n",
              "        <path d=\"M19 3H5c-1.1 0-2 .9-2 2v14c0 1.1.9 2 2 2h14c1.1 0 2-.9 2-2V5c0-1.1-.9-2-2-2zM9 17H7v-7h2v7zm4 0h-2V7h2v10zm4 0h-2v-4h2v4z\"/>\n",
              "    </g>\n",
              "</svg>\n",
              "      </button>\n",
              "    </div>\n",
              "\n",
              "<style>\n",
              "  .colab-df-quickchart {\n",
              "    background-color: #E8F0FE;\n",
              "    border: none;\n",
              "    border-radius: 50%;\n",
              "    cursor: pointer;\n",
              "    display: none;\n",
              "    fill: #1967D2;\n",
              "    height: 32px;\n",
              "    padding: 0 0 0 0;\n",
              "    width: 32px;\n",
              "  }\n",
              "\n",
              "  .colab-df-quickchart:hover {\n",
              "    background-color: #E2EBFA;\n",
              "    box-shadow: 0px 1px 2px rgba(60, 64, 67, 0.3), 0px 1px 3px 1px rgba(60, 64, 67, 0.15);\n",
              "    fill: #174EA6;\n",
              "  }\n",
              "\n",
              "  [theme=dark] .colab-df-quickchart {\n",
              "    background-color: #3B4455;\n",
              "    fill: #D2E3FC;\n",
              "  }\n",
              "\n",
              "  [theme=dark] .colab-df-quickchart:hover {\n",
              "    background-color: #434B5C;\n",
              "    box-shadow: 0px 1px 3px 1px rgba(0, 0, 0, 0.15);\n",
              "    filter: drop-shadow(0px 1px 2px rgba(0, 0, 0, 0.3));\n",
              "    fill: #FFFFFF;\n",
              "  }\n",
              "</style>\n",
              "\n",
              "    <script>\n",
              "      async function quickchart(key) {\n",
              "        const containerElement = document.querySelector('#' + key);\n",
              "        const charts = await google.colab.kernel.invokeFunction(\n",
              "            'suggestCharts', [key], {});\n",
              "      }\n",
              "    </script>\n",
              "\n",
              "      <script>\n",
              "\n",
              "function displayQuickchartButton(domScope) {\n",
              "  let quickchartButtonEl =\n",
              "    domScope.querySelector('#df-3f8a86ce-6aea-471b-8523-3c5d54eeb384 button.colab-df-quickchart');\n",
              "  quickchartButtonEl.style.display =\n",
              "    google.colab.kernel.accessAllowed ? 'block' : 'none';\n",
              "}\n",
              "\n",
              "        displayQuickchartButton(document);\n",
              "      </script>\n",
              "      <style>\n",
              "    .colab-df-container {\n",
              "      display:flex;\n",
              "      flex-wrap:wrap;\n",
              "      gap: 12px;\n",
              "    }\n",
              "\n",
              "    .colab-df-convert {\n",
              "      background-color: #E8F0FE;\n",
              "      border: none;\n",
              "      border-radius: 50%;\n",
              "      cursor: pointer;\n",
              "      display: none;\n",
              "      fill: #1967D2;\n",
              "      height: 32px;\n",
              "      padding: 0 0 0 0;\n",
              "      width: 32px;\n",
              "    }\n",
              "\n",
              "    .colab-df-convert:hover {\n",
              "      background-color: #E2EBFA;\n",
              "      box-shadow: 0px 1px 2px rgba(60, 64, 67, 0.3), 0px 1px 3px 1px rgba(60, 64, 67, 0.15);\n",
              "      fill: #174EA6;\n",
              "    }\n",
              "\n",
              "    [theme=dark] .colab-df-convert {\n",
              "      background-color: #3B4455;\n",
              "      fill: #D2E3FC;\n",
              "    }\n",
              "\n",
              "    [theme=dark] .colab-df-convert:hover {\n",
              "      background-color: #434B5C;\n",
              "      box-shadow: 0px 1px 3px 1px rgba(0, 0, 0, 0.15);\n",
              "      filter: drop-shadow(0px 1px 2px rgba(0, 0, 0, 0.3));\n",
              "      fill: #FFFFFF;\n",
              "    }\n",
              "  </style>\n",
              "\n",
              "      <script>\n",
              "        const buttonEl =\n",
              "          document.querySelector('#df-17456924-3bc7-4efe-806f-9ba9c698ebd2 button.colab-df-convert');\n",
              "        buttonEl.style.display =\n",
              "          google.colab.kernel.accessAllowed ? 'block' : 'none';\n",
              "\n",
              "        async function convertToInteractive(key) {\n",
              "          const element = document.querySelector('#df-17456924-3bc7-4efe-806f-9ba9c698ebd2');\n",
              "          const dataTable =\n",
              "            await google.colab.kernel.invokeFunction('convertToInteractive',\n",
              "                                                     [key], {});\n",
              "          if (!dataTable) return;\n",
              "\n",
              "          const docLinkHtml = 'Like what you see? Visit the ' +\n",
              "            '<a target=\"_blank\" href=https://colab.research.google.com/notebooks/data_table.ipynb>data table notebook</a>'\n",
              "            + ' to learn more about interactive tables.';\n",
              "          element.innerHTML = '';\n",
              "          dataTable['output_type'] = 'display_data';\n",
              "          await google.colab.output.renderOutput(dataTable, element);\n",
              "          const docLink = document.createElement('div');\n",
              "          docLink.innerHTML = docLinkHtml;\n",
              "          element.appendChild(docLink);\n",
              "        }\n",
              "      </script>\n",
              "    </div>\n",
              "  </div>\n"
            ]
          },
          "metadata": {},
          "execution_count": 15
        }
      ]
    },
    {
      "cell_type": "code",
      "source": [
        "Y.head(10)"
      ],
      "metadata": {
        "colab": {
          "base_uri": "https://localhost:8080/",
          "height": 363
        },
        "id": "dsluZsWk2Fx0",
        "outputId": "eb8152a3-1ac9-43b3-9a8e-00ca51e2fc92"
      },
      "execution_count": 16,
      "outputs": [
        {
          "output_type": "execute_result",
          "data": {
            "text/plain": [
              "        TEY\n",
              "0 -1.231172\n",
              "1 -1.229909\n",
              "2 -1.230541\n",
              "3 -1.229909\n",
              "4 -1.229909\n",
              "5 -1.229909\n",
              "6 -1.230541\n",
              "7 -1.230541\n",
              "8 -1.229909\n",
              "9 -0.157207"
            ],
            "text/html": [
              "\n",
              "\n",
              "  <div id=\"df-95e6d50b-3d46-45b5-81df-05609d3ac5d2\">\n",
              "    <div class=\"colab-df-container\">\n",
              "      <div>\n",
              "<style scoped>\n",
              "    .dataframe tbody tr th:only-of-type {\n",
              "        vertical-align: middle;\n",
              "    }\n",
              "\n",
              "    .dataframe tbody tr th {\n",
              "        vertical-align: top;\n",
              "    }\n",
              "\n",
              "    .dataframe thead th {\n",
              "        text-align: right;\n",
              "    }\n",
              "</style>\n",
              "<table border=\"1\" class=\"dataframe\">\n",
              "  <thead>\n",
              "    <tr style=\"text-align: right;\">\n",
              "      <th></th>\n",
              "      <th>TEY</th>\n",
              "    </tr>\n",
              "  </thead>\n",
              "  <tbody>\n",
              "    <tr>\n",
              "      <th>0</th>\n",
              "      <td>-1.231172</td>\n",
              "    </tr>\n",
              "    <tr>\n",
              "      <th>1</th>\n",
              "      <td>-1.229909</td>\n",
              "    </tr>\n",
              "    <tr>\n",
              "      <th>2</th>\n",
              "      <td>-1.230541</td>\n",
              "    </tr>\n",
              "    <tr>\n",
              "      <th>3</th>\n",
              "      <td>-1.229909</td>\n",
              "    </tr>\n",
              "    <tr>\n",
              "      <th>4</th>\n",
              "      <td>-1.229909</td>\n",
              "    </tr>\n",
              "    <tr>\n",
              "      <th>5</th>\n",
              "      <td>-1.229909</td>\n",
              "    </tr>\n",
              "    <tr>\n",
              "      <th>6</th>\n",
              "      <td>-1.230541</td>\n",
              "    </tr>\n",
              "    <tr>\n",
              "      <th>7</th>\n",
              "      <td>-1.230541</td>\n",
              "    </tr>\n",
              "    <tr>\n",
              "      <th>8</th>\n",
              "      <td>-1.229909</td>\n",
              "    </tr>\n",
              "    <tr>\n",
              "      <th>9</th>\n",
              "      <td>-0.157207</td>\n",
              "    </tr>\n",
              "  </tbody>\n",
              "</table>\n",
              "</div>\n",
              "      <button class=\"colab-df-convert\" onclick=\"convertToInteractive('df-95e6d50b-3d46-45b5-81df-05609d3ac5d2')\"\n",
              "              title=\"Convert this dataframe to an interactive table.\"\n",
              "              style=\"display:none;\">\n",
              "\n",
              "  <svg xmlns=\"http://www.w3.org/2000/svg\" height=\"24px\"viewBox=\"0 0 24 24\"\n",
              "       width=\"24px\">\n",
              "    <path d=\"M0 0h24v24H0V0z\" fill=\"none\"/>\n",
              "    <path d=\"M18.56 5.44l.94 2.06.94-2.06 2.06-.94-2.06-.94-.94-2.06-.94 2.06-2.06.94zm-11 1L8.5 8.5l.94-2.06 2.06-.94-2.06-.94L8.5 2.5l-.94 2.06-2.06.94zm10 10l.94 2.06.94-2.06 2.06-.94-2.06-.94-.94-2.06-.94 2.06-2.06.94z\"/><path d=\"M17.41 7.96l-1.37-1.37c-.4-.4-.92-.59-1.43-.59-.52 0-1.04.2-1.43.59L10.3 9.45l-7.72 7.72c-.78.78-.78 2.05 0 2.83L4 21.41c.39.39.9.59 1.41.59.51 0 1.02-.2 1.41-.59l7.78-7.78 2.81-2.81c.8-.78.8-2.07 0-2.86zM5.41 20L4 18.59l7.72-7.72 1.47 1.35L5.41 20z\"/>\n",
              "  </svg>\n",
              "      </button>\n",
              "\n",
              "\n",
              "\n",
              "    <div id=\"df-50de4844-30df-4698-aefc-1f505b58eea9\">\n",
              "      <button class=\"colab-df-quickchart\" onclick=\"quickchart('df-50de4844-30df-4698-aefc-1f505b58eea9')\"\n",
              "              title=\"Suggest charts.\"\n",
              "              style=\"display:none;\">\n",
              "\n",
              "<svg xmlns=\"http://www.w3.org/2000/svg\" height=\"24px\"viewBox=\"0 0 24 24\"\n",
              "     width=\"24px\">\n",
              "    <g>\n",
              "        <path d=\"M19 3H5c-1.1 0-2 .9-2 2v14c0 1.1.9 2 2 2h14c1.1 0 2-.9 2-2V5c0-1.1-.9-2-2-2zM9 17H7v-7h2v7zm4 0h-2V7h2v10zm4 0h-2v-4h2v4z\"/>\n",
              "    </g>\n",
              "</svg>\n",
              "      </button>\n",
              "    </div>\n",
              "\n",
              "<style>\n",
              "  .colab-df-quickchart {\n",
              "    background-color: #E8F0FE;\n",
              "    border: none;\n",
              "    border-radius: 50%;\n",
              "    cursor: pointer;\n",
              "    display: none;\n",
              "    fill: #1967D2;\n",
              "    height: 32px;\n",
              "    padding: 0 0 0 0;\n",
              "    width: 32px;\n",
              "  }\n",
              "\n",
              "  .colab-df-quickchart:hover {\n",
              "    background-color: #E2EBFA;\n",
              "    box-shadow: 0px 1px 2px rgba(60, 64, 67, 0.3), 0px 1px 3px 1px rgba(60, 64, 67, 0.15);\n",
              "    fill: #174EA6;\n",
              "  }\n",
              "\n",
              "  [theme=dark] .colab-df-quickchart {\n",
              "    background-color: #3B4455;\n",
              "    fill: #D2E3FC;\n",
              "  }\n",
              "\n",
              "  [theme=dark] .colab-df-quickchart:hover {\n",
              "    background-color: #434B5C;\n",
              "    box-shadow: 0px 1px 3px 1px rgba(0, 0, 0, 0.15);\n",
              "    filter: drop-shadow(0px 1px 2px rgba(0, 0, 0, 0.3));\n",
              "    fill: #FFFFFF;\n",
              "  }\n",
              "</style>\n",
              "\n",
              "    <script>\n",
              "      async function quickchart(key) {\n",
              "        const containerElement = document.querySelector('#' + key);\n",
              "        const charts = await google.colab.kernel.invokeFunction(\n",
              "            'suggestCharts', [key], {});\n",
              "      }\n",
              "    </script>\n",
              "\n",
              "      <script>\n",
              "\n",
              "function displayQuickchartButton(domScope) {\n",
              "  let quickchartButtonEl =\n",
              "    domScope.querySelector('#df-50de4844-30df-4698-aefc-1f505b58eea9 button.colab-df-quickchart');\n",
              "  quickchartButtonEl.style.display =\n",
              "    google.colab.kernel.accessAllowed ? 'block' : 'none';\n",
              "}\n",
              "\n",
              "        displayQuickchartButton(document);\n",
              "      </script>\n",
              "      <style>\n",
              "    .colab-df-container {\n",
              "      display:flex;\n",
              "      flex-wrap:wrap;\n",
              "      gap: 12px;\n",
              "    }\n",
              "\n",
              "    .colab-df-convert {\n",
              "      background-color: #E8F0FE;\n",
              "      border: none;\n",
              "      border-radius: 50%;\n",
              "      cursor: pointer;\n",
              "      display: none;\n",
              "      fill: #1967D2;\n",
              "      height: 32px;\n",
              "      padding: 0 0 0 0;\n",
              "      width: 32px;\n",
              "    }\n",
              "\n",
              "    .colab-df-convert:hover {\n",
              "      background-color: #E2EBFA;\n",
              "      box-shadow: 0px 1px 2px rgba(60, 64, 67, 0.3), 0px 1px 3px 1px rgba(60, 64, 67, 0.15);\n",
              "      fill: #174EA6;\n",
              "    }\n",
              "\n",
              "    [theme=dark] .colab-df-convert {\n",
              "      background-color: #3B4455;\n",
              "      fill: #D2E3FC;\n",
              "    }\n",
              "\n",
              "    [theme=dark] .colab-df-convert:hover {\n",
              "      background-color: #434B5C;\n",
              "      box-shadow: 0px 1px 3px 1px rgba(0, 0, 0, 0.15);\n",
              "      filter: drop-shadow(0px 1px 2px rgba(0, 0, 0, 0.3));\n",
              "      fill: #FFFFFF;\n",
              "    }\n",
              "  </style>\n",
              "\n",
              "      <script>\n",
              "        const buttonEl =\n",
              "          document.querySelector('#df-95e6d50b-3d46-45b5-81df-05609d3ac5d2 button.colab-df-convert');\n",
              "        buttonEl.style.display =\n",
              "          google.colab.kernel.accessAllowed ? 'block' : 'none';\n",
              "\n",
              "        async function convertToInteractive(key) {\n",
              "          const element = document.querySelector('#df-95e6d50b-3d46-45b5-81df-05609d3ac5d2');\n",
              "          const dataTable =\n",
              "            await google.colab.kernel.invokeFunction('convertToInteractive',\n",
              "                                                     [key], {});\n",
              "          if (!dataTable) return;\n",
              "\n",
              "          const docLinkHtml = 'Like what you see? Visit the ' +\n",
              "            '<a target=\"_blank\" href=https://colab.research.google.com/notebooks/data_table.ipynb>data table notebook</a>'\n",
              "            + ' to learn more about interactive tables.';\n",
              "          element.innerHTML = '';\n",
              "          dataTable['output_type'] = 'display_data';\n",
              "          await google.colab.output.renderOutput(dataTable, element);\n",
              "          const docLink = document.createElement('div');\n",
              "          docLink.innerHTML = docLinkHtml;\n",
              "          element.appendChild(docLink);\n",
              "        }\n",
              "      </script>\n",
              "    </div>\n",
              "  </div>\n"
            ]
          },
          "metadata": {},
          "execution_count": 16
        }
      ]
    },
    {
      "cell_type": "markdown",
      "source": [
        "Train Test Split"
      ],
      "metadata": {
        "id": "eMf_PI5H2MWC"
      }
    },
    {
      "cell_type": "code",
      "source": [
        "X_train,X_test,Y_train,Y_test=train_test_split(X,Y,test_size=0.4,random_state=42)"
      ],
      "metadata": {
        "id": "3wnqRJ3n2IdG"
      },
      "execution_count": 17,
      "outputs": []
    },
    {
      "cell_type": "markdown",
      "source": [
        "Model Building"
      ],
      "metadata": {
        "id": "SNXrbgjQ2X1P"
      }
    },
    {
      "cell_type": "code",
      "source": [
        "dropout_rate=0.2\n",
        "activation_function = 'linear'\n",
        "batch_size = 100\n",
        "epochs = 100"
      ],
      "metadata": {
        "id": "qd0VXUZp2bFB"
      },
      "execution_count": 18,
      "outputs": []
    },
    {
      "cell_type": "code",
      "source": [
        "model = Sequential()\n",
        "model.add(Dense(12, input_dim=10, kernel_initializer='uniform', activation='linear'))\n",
        "model.add(Dense(24, kernel_initializer='uniform', activation='relu'))\n",
        "model.add(Dense(48 ,kernel_initializer='uniform', activation='sigmoid'))\n",
        "model.add(Dense(24, kernel_initializer='uniform', activation='relu'))\n",
        "model.add(Dense(12,kernel_initializer='uniform', activation='relu'))\n",
        "model.add(Dense(1, kernel_initializer='uniform', activation='linear'))\n",
        "\n",
        "adam = Adam(learning_rate =0.001)\n",
        "model.compile(loss='mean_squared_error', optimizer='adam', metrics=['mean_squared_error'])"
      ],
      "metadata": {
        "id": "NHS_Je1a2oxz"
      },
      "execution_count": 19,
      "outputs": []
    },
    {
      "cell_type": "code",
      "source": [
        "scores=model.evaluate(X,Y)"
      ],
      "metadata": {
        "colab": {
          "base_uri": "https://localhost:8080/"
        },
        "id": "mI5rzEP-2ozm",
        "outputId": "f6788c67-df39-4e8b-b17e-a90900684979"
      },
      "execution_count": 20,
      "outputs": [
        {
          "output_type": "stream",
          "name": "stdout",
          "text": [
            "470/470 [==============================] - 1s 1ms/step - loss: 1.0000 - mean_squared_error: 1.0000\n"
          ]
        }
      ]
    },
    {
      "cell_type": "code",
      "source": [
        "history=model.fit(X_train,Y_train,batch_size=1000,epochs=1000,verbose=0,validation_data=(X_test, Y_test))"
      ],
      "metadata": {
        "id": "4QHBoD-t29W0"
      },
      "execution_count": 21,
      "outputs": []
    },
    {
      "cell_type": "code",
      "source": [
        "model.history.history.keys()"
      ],
      "metadata": {
        "colab": {
          "base_uri": "https://localhost:8080/"
        },
        "id": "dlO6Ufk53lSl",
        "outputId": "09d6f8c0-9dfd-42e6-df41-188eadc1d58c"
      },
      "execution_count": 22,
      "outputs": [
        {
          "output_type": "execute_result",
          "data": {
            "text/plain": [
              "dict_keys(['loss', 'mean_squared_error', 'val_loss', 'val_mean_squared_error'])"
            ]
          },
          "metadata": {},
          "execution_count": 22
        }
      ]
    },
    {
      "cell_type": "code",
      "source": [
        "scores=model.evaluate(X,Y)"
      ],
      "metadata": {
        "colab": {
          "base_uri": "https://localhost:8080/"
        },
        "id": "4CuIc6UA3lUn",
        "outputId": "ee80d7bb-4b74-4866-8cd3-012ac4f7328c"
      },
      "execution_count": 23,
      "outputs": [
        {
          "output_type": "stream",
          "name": "stdout",
          "text": [
            "470/470 [==============================] - 1s 1ms/step - loss: 0.0016 - mean_squared_error: 0.0016\n"
          ]
        }
      ]
    },
    {
      "cell_type": "code",
      "source": [
        "print(\"%s: %.2f%%\" % (model.metrics_names[1], scores[1]*100))"
      ],
      "metadata": {
        "colab": {
          "base_uri": "https://localhost:8080/"
        },
        "id": "bn1IH6rs3yRr",
        "outputId": "5b23a6fe-ec90-4b5d-fbf6-538cf4fc1752"
      },
      "execution_count": 24,
      "outputs": [
        {
          "output_type": "stream",
          "name": "stdout",
          "text": [
            "mean_squared_error: 0.16%\n"
          ]
        }
      ]
    },
    {
      "cell_type": "code",
      "source": [
        "# summarize history for accuracy\n",
        "plt.plot(history.history['mean_squared_error'])\n",
        "plt.plot(history.history['val_mean_squared_error'])\n",
        "plt.title('Model MSE')\n",
        "plt.ylabel('MSE')\n",
        "plt.xlabel('Epoch')\n",
        "plt.legend(['train', 'val'], loc='upper left')\n",
        "plt.show()"
      ],
      "metadata": {
        "colab": {
          "base_uri": "https://localhost:8080/",
          "height": 472
        },
        "id": "pueZM7gl36V6",
        "outputId": "ebd090ee-63c6-4813-f2da-4727b1c7038b"
      },
      "execution_count": 25,
      "outputs": [
        {
          "output_type": "display_data",
          "data": {
            "text/plain": [
              "<Figure size 640x480 with 1 Axes>"
            ],
            "image/png": "[encoded data removed]"
          },
          "metadata": {}
        }
      ]
    },
    {
      "cell_type": "markdown",
      "source": [
        "Model building by using Adam Optimizer"
      ],
      "metadata": {
        "id": "a8ULPLbb4AlO"
      }
    },
    {
      "cell_type": "markdown",
      "source": [
        "Hyper Parameter Tuning for Number of neurons and hidden layers and learning rate\n",
        "\n",
        "Adam optimizer is best compared to other optimizers so letus go for adam optimizer.\n",
        "\n",
        "Since, its a regession like problem we should use loss as mean_squared_error not binary_crossentropy"
      ],
      "metadata": {
        "id": "_p-2X5pe4Ail"
      }
    },
    {
      "cell_type": "code",
      "source": [
        "layers=[2,3,4,5,8]\n",
        "neurons = [8,10,15,25,36,54]\n",
        "learning_rates = np.linspace(0.001, 0.1, 10)"
      ],
      "metadata": {
        "id": "lAsmtgHS4im7"
      },
      "execution_count": 26,
      "outputs": []
    },
    {
      "cell_type": "code",
      "source": [
        "def create_model1(layers, neurons,learning_rate):\n",
        "    model1 = Sequential()\n",
        "    model1.add(Dense(10, input_dim=X_train.shape[1], activation='relu'))\n",
        "\n",
        "\n",
        "    for i in range(layers-1):\n",
        "        model1.add(Dense(neurons, activation='relu'))\n",
        "        model1.add(Dense(1, activation='linear'))\n",
        "\n",
        "\n",
        "    adam = Adam(learning_rate = learning_rate)\n",
        "    model1.compile(loss='mean_squared_error', optimizer='adam', metrics=['accuracy'])\n",
        "    return model1"
      ],
      "metadata": {
        "id": "gXbdlWfW4oq8"
      },
      "execution_count": 27,
      "outputs": []
    },
    {
      "cell_type": "code",
      "source": [
        "model1 = KerasClassifier(build_fn=create_model1, verbose=0)"
      ],
      "metadata": {
        "colab": {
          "base_uri": "https://localhost:8080/"
        },
        "id": "mCXwLTXx5EAy",
        "outputId": "42259c4c-d4f3-42d1-9f58-e3c66d84c73f"
      },
      "execution_count": 28,
      "outputs": [
        {
          "output_type": "stream",
          "name": "stderr",
          "text": [
            "<ipython-input-28-06473661806b>:1: DeprecationWarning: KerasClassifier is deprecated, use Sci-Keras (https://github.com/adriangb/scikeras) instead. See https://www.adriangb.com/scikeras/stable/migration.html for help migrating.\n",
            "  model1 = KerasClassifier(build_fn=create_model1, verbose=0)\n"
          ]
        }
      ]
    },
    {
      "cell_type": "code",
      "source": [
        "parameters1=dict(layers=layers,neurons = neurons,learning_rate=learning_rates)"
      ],
      "metadata": {
        "id": "W8m-q7IK5Ke6"
      },
      "execution_count": 29,
      "outputs": []
    },
    {
      "cell_type": "code",
      "source": [
        "grid1 = RandomizedSearchCV(estimator=model1, param_distributions=parameters1, cv=3, n_iter=10,random_state=42)"
      ],
      "metadata": {
        "id": "PTkEDEVs5Qza"
      },
      "execution_count": 30,
      "outputs": []
    },
    {
      "cell_type": "code",
      "source": [
        "grid_result1 = grid1.fit(X_train, Y_train)"
      ],
      "metadata": {
        "id": "wQakbTil5X2T"
      },
      "execution_count": 31,
      "outputs": []
    },
    {
      "cell_type": "code",
      "source": [
        "print('Best : {}, using {}'.format(grid_result1.best_score_,grid_result1.best_params_))"
      ],
      "metadata": {
        "colab": {
          "base_uri": "https://localhost:8080/"
        },
        "id": "0UU-_gar5uPH",
        "outputId": "d20f95a5-7377-4ffe-80f4-3ed6fa1e77d6"
      },
      "execution_count": 32,
      "outputs": [
        {
          "output_type": "stream",
          "name": "stdout",
          "text": [
            "Best : 0.00022163119865581393, using {'neurons': 54, 'learning_rate': 0.034, 'layers': 5}\n"
          ]
        }
      ]
    },
    {
      "cell_type": "markdown",
      "source": [
        "Hyper parameter tuning for batch size and number of epochs"
      ],
      "metadata": {
        "id": "snoYbaF56GBz"
      }
    },
    {
      "cell_type": "code",
      "source": [
        "epochs=[10,20,50]\n",
        "batch_size=[50,100,200]"
      ],
      "metadata": {
        "id": "EV8Oiszb5-F2"
      },
      "execution_count": 33,
      "outputs": []
    },
    {
      "cell_type": "code",
      "source": [
        "def create_model2(epochs,batch_size):\n",
        "\n",
        "    model2 = Sequential()\n",
        "    model2.add(Dense(10, input_dim=X_train.shape[1], activation='relu',\n",
        "                    kernel_initializer='uniform'))\n",
        "\n",
        "\n",
        "    model2.add(Dense(54, activation='relu',kernel_initializer='uniform'))\n",
        "    model2.add(Dense(54, activation='relu',kernel_initializer='uniform'))\n",
        "    model2.add(Dense(54, activation='relu',kernel_initializer='uniform'))\n",
        "    model2.add(Dense(54, activation='relu',kernel_initializer='uniform'))\n",
        "    model2.add(Dense(54, activation='relu',kernel_initializer='uniform'))\n",
        "\n",
        "\n",
        "    model2.add(Dense(1, activation='linear',kernel_initializer='uniform'))\n",
        "\n",
        "\n",
        "    adam = Adam(learning_rate =0.034)\n",
        "    model2.compile(loss='mean_squared_error', optimizer='adam',  metrics=['mean_squared_error','accuracy'])\n",
        "    return model2"
      ],
      "metadata": {
        "id": "YB56WE-k6QQV"
      },
      "execution_count": 34,
      "outputs": []
    },
    {
      "cell_type": "code",
      "source": [
        "model2 = KerasClassifier(build_fn=create_model2, verbose=0)"
      ],
      "metadata": {
        "colab": {
          "base_uri": "https://localhost:8080/"
        },
        "id": "g8T2125l6RSK",
        "outputId": "e451d020-6dee-45a8-d87f-281fc33e1267"
      },
      "execution_count": 35,
      "outputs": [
        {
          "output_type": "stream",
          "name": "stderr",
          "text": [
            "<ipython-input-35-0c0a41208284>:1: DeprecationWarning: KerasClassifier is deprecated, use Sci-Keras (https://github.com/adriangb/scikeras) instead. See https://www.adriangb.com/scikeras/stable/migration.html for help migrating.\n",
            "  model2 = KerasClassifier(build_fn=create_model2, verbose=0)\n"
          ]
        }
      ]
    },
    {
      "cell_type": "code",
      "source": [
        "parameters2=dict(epochs=epochs,batch_size=batch_size)"
      ],
      "metadata": {
        "id": "rcGdPTK-6YLS"
      },
      "execution_count": 36,
      "outputs": []
    },
    {
      "cell_type": "code",
      "source": [
        "grid2 = GridSearchCV(estimator=model2, param_grid=parameters2, cv=KFold(),verbose=10)"
      ],
      "metadata": {
        "id": "45MQr5hg6cAl"
      },
      "execution_count": 37,
      "outputs": []
    },
    {
      "cell_type": "code",
      "source": [
        "grid_result2 = grid2.fit(X_train, Y_train)"
      ],
      "metadata": {
        "colab": {
          "base_uri": "https://localhost:8080/"
        },
        "id": "rItwaO1o6eTi",
        "outputId": "60d220ba-cf04-4e8d-e194-d56025feeff0"
      },
      "execution_count": 38,
      "outputs": [
        {
          "output_type": "stream",
          "name": "stdout",
          "text": [
            "Fitting 5 folds for each of 9 candidates, totalling 45 fits\n",
            "[CV 1/5; 1/9] START batch_size=50, epochs=10....................................\n",
            "[CV 1/5; 1/9] END .....batch_size=50, epochs=10;, score=0.000 total time=   7.0s\n",
            "[CV 2/5; 1/9] START batch_size=50, epochs=10....................................\n",
            "[CV 2/5; 1/9] END .....batch_size=50, epochs=10;, score=0.000 total time=   4.3s\n",
            "[CV 3/5; 1/9] START batch_size=50, epochs=10....................................\n",
            "[CV 3/5; 1/9] END .....batch_size=50, epochs=10;, score=0.001 total time=   7.0s\n",
            "[CV 4/5; 1/9] START batch_size=50, epochs=10....................................\n",
            "[CV 4/5; 1/9] END .....batch_size=50, epochs=10;, score=0.000 total time=   4.4s\n",
            "[CV 5/5; 1/9] START batch_size=50, epochs=10....................................\n",
            "[CV 5/5; 1/9] END .....batch_size=50, epochs=10;, score=0.000 total time=   4.3s\n",
            "[CV 1/5; 2/9] START batch_size=50, epochs=20....................................\n",
            "[CV 1/5; 2/9] END .....batch_size=50, epochs=20;, score=0.000 total time=  12.8s\n",
            "[CV 2/5; 2/9] START batch_size=50, epochs=20....................................\n",
            "[CV 2/5; 2/9] END .....batch_size=50, epochs=20;, score=0.000 total time=   8.2s\n",
            "[CV 3/5; 2/9] START batch_size=50, epochs=20....................................\n",
            "[CV 3/5; 2/9] END .....batch_size=50, epochs=20;, score=0.001 total time=  12.0s\n",
            "[CV 4/5; 2/9] START batch_size=50, epochs=20....................................\n",
            "[CV 4/5; 2/9] END .....batch_size=50, epochs=20;, score=0.000 total time=   7.8s\n",
            "[CV 5/5; 2/9] START batch_size=50, epochs=20....................................\n",
            "[CV 5/5; 2/9] END .....batch_size=50, epochs=20;, score=0.000 total time=  12.3s\n",
            "[CV 1/5; 3/9] START batch_size=50, epochs=50....................................\n",
            "[CV 1/5; 3/9] END .....batch_size=50, epochs=50;, score=0.000 total time=  22.2s\n",
            "[CV 2/5; 3/9] START batch_size=50, epochs=50....................................\n",
            "[CV 2/5; 3/9] END .....batch_size=50, epochs=50;, score=0.000 total time=  16.7s\n",
            "[CV 3/5; 3/9] START batch_size=50, epochs=50....................................\n",
            "[CV 3/5; 3/9] END .....batch_size=50, epochs=50;, score=0.001 total time=  22.4s\n",
            "[CV 4/5; 3/9] START batch_size=50, epochs=50....................................\n",
            "[CV 4/5; 3/9] END .....batch_size=50, epochs=50;, score=0.000 total time=  22.6s\n",
            "[CV 5/5; 3/9] START batch_size=50, epochs=50....................................\n",
            "[CV 5/5; 3/9] END .....batch_size=50, epochs=50;, score=0.000 total time=  22.5s\n",
            "[CV 1/5; 4/9] START batch_size=100, epochs=10...................................\n",
            "[CV 1/5; 4/9] END ....batch_size=100, epochs=10;, score=0.000 total time=   4.2s\n",
            "[CV 2/5; 4/9] START batch_size=100, epochs=10...................................\n",
            "[CV 2/5; 4/9] END ....batch_size=100, epochs=10;, score=0.000 total time=   3.8s\n",
            "[CV 3/5; 4/9] START batch_size=100, epochs=10...................................\n",
            "[CV 3/5; 4/9] END ....batch_size=100, epochs=10;, score=0.001 total time=   4.3s\n",
            "[CV 4/5; 4/9] START batch_size=100, epochs=10...................................\n",
            "[CV 4/5; 4/9] END ....batch_size=100, epochs=10;, score=0.000 total time=   4.4s\n",
            "[CV 5/5; 4/9] START batch_size=100, epochs=10...................................\n",
            "[CV 5/5; 4/9] END ....batch_size=100, epochs=10;, score=0.000 total time=   4.8s\n",
            "[CV 1/5; 5/9] START batch_size=100, epochs=20...................................\n",
            "[CV 1/5; 5/9] END ....batch_size=100, epochs=20;, score=0.000 total time=   6.8s\n",
            "[CV 2/5; 5/9] START batch_size=100, epochs=20...................................\n",
            "[CV 2/5; 5/9] END ....batch_size=100, epochs=20;, score=0.000 total time=   7.5s\n",
            "[CV 3/5; 5/9] START batch_size=100, epochs=20...................................\n",
            "[CV 3/5; 5/9] END ....batch_size=100, epochs=20;, score=0.001 total time=   4.5s\n",
            "[CV 4/5; 5/9] START batch_size=100, epochs=20...................................\n",
            "[CV 4/5; 5/9] END ....batch_size=100, epochs=20;, score=0.000 total time=   5.4s\n",
            "[CV 5/5; 5/9] START batch_size=100, epochs=20...................................\n",
            "[CV 5/5; 5/9] END ....batch_size=100, epochs=20;, score=0.000 total time=   5.5s\n",
            "[CV 1/5; 6/9] START batch_size=100, epochs=50...................................\n",
            "[CV 1/5; 6/9] END ....batch_size=100, epochs=50;, score=0.000 total time=  10.1s\n",
            "[CV 2/5; 6/9] START batch_size=100, epochs=50...................................\n",
            "[CV 2/5; 6/9] END ....batch_size=100, epochs=50;, score=0.000 total time=  11.9s\n",
            "[CV 3/5; 6/9] START batch_size=100, epochs=50...................................\n",
            "[CV 3/5; 6/9] END ....batch_size=100, epochs=50;, score=0.001 total time=  12.0s\n",
            "[CV 4/5; 6/9] START batch_size=100, epochs=50...................................\n",
            "[CV 4/5; 6/9] END ....batch_size=100, epochs=50;, score=0.000 total time=  10.1s\n",
            "[CV 5/5; 6/9] START batch_size=100, epochs=50...................................\n",
            "[CV 5/5; 6/9] END ....batch_size=100, epochs=50;, score=0.000 total time=   9.5s\n",
            "[CV 1/5; 7/9] START batch_size=200, epochs=10...................................\n",
            "[CV 1/5; 7/9] END ....batch_size=200, epochs=10;, score=0.000 total time=   3.0s\n",
            "[CV 2/5; 7/9] START batch_size=200, epochs=10...................................\n",
            "[CV 2/5; 7/9] END ....batch_size=200, epochs=10;, score=0.000 total time=   3.0s\n",
            "[CV 3/5; 7/9] START batch_size=200, epochs=10...................................\n",
            "[CV 3/5; 7/9] END ....batch_size=200, epochs=10;, score=0.001 total time=   2.9s\n",
            "[CV 4/5; 7/9] START batch_size=200, epochs=10...................................\n",
            "[CV 4/5; 7/9] END ....batch_size=200, epochs=10;, score=0.000 total time=   3.1s\n",
            "[CV 5/5; 7/9] START batch_size=200, epochs=10...................................\n",
            "[CV 5/5; 7/9] END ....batch_size=200, epochs=10;, score=0.000 total time=   4.0s\n",
            "[CV 1/5; 8/9] START batch_size=200, epochs=20...................................\n",
            "[CV 1/5; 8/9] END ....batch_size=200, epochs=20;, score=0.000 total time=   3.7s\n",
            "[CV 2/5; 8/9] START batch_size=200, epochs=20...................................\n",
            "[CV 2/5; 8/9] END ....batch_size=200, epochs=20;, score=0.000 total time=   3.6s\n",
            "[CV 3/5; 8/9] START batch_size=200, epochs=20...................................\n",
            "[CV 3/5; 8/9] END ....batch_size=200, epochs=20;, score=0.001 total time=   4.9s\n",
            "[CV 4/5; 8/9] START batch_size=200, epochs=20...................................\n",
            "[CV 4/5; 8/9] END ....batch_size=200, epochs=20;, score=0.000 total time=   4.2s\n",
            "[CV 5/5; 8/9] START batch_size=200, epochs=20...................................\n",
            "[CV 5/5; 8/9] END ....batch_size=200, epochs=20;, score=0.000 total time=   3.4s\n",
            "[CV 1/5; 9/9] START batch_size=200, epochs=50...................................\n",
            "[CV 1/5; 9/9] END ....batch_size=200, epochs=50;, score=0.000 total time=   7.4s\n",
            "[CV 2/5; 9/9] START batch_size=200, epochs=50...................................\n",
            "[CV 2/5; 9/9] END ....batch_size=200, epochs=50;, score=0.000 total time=   6.9s\n",
            "[CV 3/5; 9/9] START batch_size=200, epochs=50...................................\n",
            "[CV 3/5; 9/9] END ....batch_size=200, epochs=50;, score=0.001 total time=   6.0s\n",
            "[CV 4/5; 9/9] START batch_size=200, epochs=50...................................\n",
            "[CV 4/5; 9/9] END ....batch_size=200, epochs=50;, score=0.000 total time=   6.9s\n",
            "[CV 5/5; 9/9] START batch_size=200, epochs=50...................................\n",
            "[CV 5/5; 9/9] END ....batch_size=200, epochs=50;, score=0.000 total time=   7.0s\n"
          ]
        }
      ]
    },
    {
      "cell_type": "code",
      "source": [
        "print('Best : {}, using {}'.format(grid_result2.best_score_,grid_result2.best_params_))"
      ],
      "metadata": {
        "colab": {
          "base_uri": "https://localhost:8080/"
        },
        "id": "eSLv48EU6kcm",
        "outputId": "be38fb37-a3cf-4b42-a582-ce25eda42d8e"
      },
      "execution_count": 39,
      "outputs": [
        {
          "output_type": "stream",
          "name": "stdout",
          "text": [
            "Best : 0.00011080332333222032, using {'batch_size': 50, 'epochs': 10}\n"
          ]
        }
      ]
    },
    {
      "cell_type": "code",
      "source": [
        "means = grid_result2.cv_results_[\"mean_test_score\"]\n",
        "stds = grid_result2.cv_results_[\"std_test_score\"]\n",
        "params = grid_result2.cv_results_[\"params\"]\n",
        "for mean,stdev,param in zip(means,stds,params):\n",
        "    print(\"{},{} with {}\".format(mean,stdev,param))"
      ],
      "metadata": {
        "colab": {
          "base_uri": "https://localhost:8080/"
        },
        "id": "vHBOxLBk8QDR",
        "outputId": "869ecc62-db8e-4f76-b755-e5c13c750a2c"
      },
      "execution_count": 40,
      "outputs": [
        {
          "output_type": "stream",
          "name": "stdout",
          "text": [
            "0.00011080332333222032,0.00022160664666444067 with {'batch_size': 50, 'epochs': 10}\n",
            "0.00011080332333222032,0.00022160664666444067 with {'batch_size': 50, 'epochs': 20}\n",
            "0.00011080332333222032,0.00022160664666444067 with {'batch_size': 50, 'epochs': 50}\n",
            "0.00011080332333222032,0.00022160664666444067 with {'batch_size': 100, 'epochs': 10}\n",
            "0.00011080332333222032,0.00022160664666444067 with {'batch_size': 100, 'epochs': 20}\n",
            "0.00011080332333222032,0.00022160664666444067 with {'batch_size': 100, 'epochs': 50}\n",
            "0.00011080332333222032,0.00022160664666444067 with {'batch_size': 200, 'epochs': 10}\n",
            "0.00011080332333222032,0.00022160664666444067 with {'batch_size': 200, 'epochs': 20}\n",
            "0.00011080332333222032,0.00022160664666444067 with {'batch_size': 200, 'epochs': 50}\n"
          ]
        }
      ]
    },
    {
      "cell_type": "markdown",
      "source": [
        "Hyper parameter tuning for Drop rate"
      ],
      "metadata": {
        "id": "wD5n6PSb8bKc"
      }
    },
    {
      "cell_type": "code",
      "source": [
        "dropout_rate = [0.1,0.2]"
      ],
      "metadata": {
        "id": "nweNGWyh8QFe"
      },
      "execution_count": 41,
      "outputs": []
    },
    {
      "cell_type": "code",
      "source": [
        "def create_model3(dropout_rate):\n",
        "\n",
        "    model3 = Sequential()\n",
        "    model3.add(Dense(10, input_dim=X_train.shape[1], activation='relu',\n",
        "                    kernel_initializer='uniform'))\n",
        "\n",
        "\n",
        "    model3.add(Dense(54, activation='relu',kernel_initializer='uniform'))\n",
        "    model3.add(Dropout(dropout_rate))\n",
        "    model3.add(Dense(54, activation='relu',kernel_initializer='uniform'))\n",
        "    model3.add(Dropout(dropout_rate))\n",
        "    model3.add(Dense(54, activation='relu',kernel_initializer='uniform'))\n",
        "    model3.add(Dropout(dropout_rate))\n",
        "    model3.add(Dense(54, activation='relu',kernel_initializer='uniform'))\n",
        "    model3.add(Dropout(dropout_rate))\n",
        "    model3.add(Dense(54, activation='relu',kernel_initializer='uniform'))\n",
        "    model3.add(Dropout(dropout_rate))\n",
        "\n",
        "\n",
        "    model3.add(Dense(1, activation='linear',kernel_initializer='uniform'))\n",
        "\n",
        "\n",
        "    adam = Adam(learning_rate =0.034)\n",
        "    model3.compile(loss='mean_squared_error', optimizer='adam',  metrics=['mean_squared_error','accuracy'])\n",
        "    return model3"
      ],
      "metadata": {
        "id": "66JgIUv89LqE"
      },
      "execution_count": 42,
      "outputs": []
    },
    {
      "cell_type": "code",
      "source": [
        "model3 = KerasClassifier(build_fn = create_model3,epochs=10,batch_size=50,verbose = 0)"
      ],
      "metadata": {
        "colab": {
          "base_uri": "https://localhost:8080/"
        },
        "id": "ossipLdV9PBe",
        "outputId": "c08ca579-f5bf-4558-a2e2-3dab38e7fb60"
      },
      "execution_count": 43,
      "outputs": [
        {
          "output_type": "stream",
          "name": "stderr",
          "text": [
            "<ipython-input-43-170ab2db251c>:1: DeprecationWarning: KerasClassifier is deprecated, use Sci-Keras (https://github.com/adriangb/scikeras) instead. See https://www.adriangb.com/scikeras/stable/migration.html for help migrating.\n",
            "  model3 = KerasClassifier(build_fn = create_model3,epochs=10,batch_size=50,verbose = 0)\n"
          ]
        }
      ]
    },
    {
      "cell_type": "code",
      "source": [
        "paramgrids3=dict(dropout_rate = dropout_rate)"
      ],
      "metadata": {
        "id": "0TG_Pd1S-t0K"
      },
      "execution_count": 44,
      "outputs": []
    },
    {
      "cell_type": "code",
      "source": [
        "grid3= GridSearchCV(estimator = model3,param_grid = paramgrids3,cv = KFold(),verbose = 10)\n",
        "grid_result3 = grid3.fit(X_train,Y_train)"
      ],
      "metadata": {
        "colab": {
          "base_uri": "https://localhost:8080/"
        },
        "id": "cv25Jw4C-0WC",
        "outputId": "8222cb52-e230-4b41-cc4a-8edf86277d96"
      },
      "execution_count": 45,
      "outputs": [
        {
          "output_type": "stream",
          "name": "stdout",
          "text": [
            "Fitting 5 folds for each of 2 candidates, totalling 10 fits\n",
            "[CV 1/5; 1/2] START dropout_rate=0.1............................................\n",
            "[CV 1/5; 1/2] END .............dropout_rate=0.1;, score=0.000 total time=   5.4s\n",
            "[CV 2/5; 1/2] START dropout_rate=0.1............................................\n",
            "[CV 2/5; 1/2] END .............dropout_rate=0.1;, score=0.000 total time=   7.1s\n",
            "[CV 3/5; 1/2] START dropout_rate=0.1............................................\n",
            "[CV 3/5; 1/2] END .............dropout_rate=0.1;, score=0.001 total time=   7.1s\n",
            "[CV 4/5; 1/2] START dropout_rate=0.1............................................\n",
            "[CV 4/5; 1/2] END .............dropout_rate=0.1;, score=0.000 total time=   6.0s\n",
            "[CV 5/5; 1/2] START dropout_rate=0.1............................................\n",
            "[CV 5/5; 1/2] END .............dropout_rate=0.1;, score=0.000 total time=   5.1s\n",
            "[CV 1/5; 2/2] START dropout_rate=0.2............................................\n",
            "[CV 1/5; 2/2] END .............dropout_rate=0.2;, score=0.000 total time=   6.0s\n",
            "[CV 2/5; 2/2] START dropout_rate=0.2............................................\n",
            "[CV 2/5; 2/2] END .............dropout_rate=0.2;, score=0.000 total time=   7.7s\n",
            "[CV 3/5; 2/2] START dropout_rate=0.2............................................\n",
            "[CV 3/5; 2/2] END .............dropout_rate=0.2;, score=0.001 total time=   6.3s\n",
            "[CV 4/5; 2/2] START dropout_rate=0.2............................................\n",
            "[CV 4/5; 2/2] END .............dropout_rate=0.2;, score=0.000 total time=   7.1s\n",
            "[CV 5/5; 2/2] START dropout_rate=0.2............................................\n",
            "[CV 5/5; 2/2] END .............dropout_rate=0.2;, score=0.000 total time=   6.2s\n"
          ]
        }
      ]
    },
    {
      "cell_type": "code",
      "source": [
        "print('Best : {}, using {}'.format(grid_result3.best_score_,grid_result3.best_params_))"
      ],
      "metadata": {
        "colab": {
          "base_uri": "https://localhost:8080/"
        },
        "id": "MrSHzw2Z_Ttp",
        "outputId": "645b0f42-ceb1-4861-bc13-eb64b2b87680"
      },
      "execution_count": 46,
      "outputs": [
        {
          "output_type": "stream",
          "name": "stdout",
          "text": [
            "Best : 0.00011080332333222032, using {'dropout_rate': 0.1}\n"
          ]
        }
      ]
    },
    {
      "cell_type": "code",
      "source": [
        "means = grid_result3.cv_results_[\"mean_test_score\"]\n",
        "stds = grid_result3.cv_results_[\"std_test_score\"]\n",
        "params = grid_result3.cv_results_[\"params\"]\n",
        "for mean,stdev,param in zip(means,stds,params):\n",
        "    print(\"{},{} with {}\".format(mean,stdev,param))"
      ],
      "metadata": {
        "colab": {
          "base_uri": "https://localhost:8080/"
        },
        "id": "U0b6o1Zq_Wfq",
        "outputId": "175fbf80-a3a5-4835-ab1b-d961831e78d0"
      },
      "execution_count": 47,
      "outputs": [
        {
          "output_type": "stream",
          "name": "stdout",
          "text": [
            "0.00011080332333222032,0.00022160664666444067 with {'dropout_rate': 0.1}\n",
            "0.00011080332333222032,0.00022160664666444067 with {'dropout_rate': 0.2}\n"
          ]
        }
      ]
    },
    {
      "cell_type": "markdown",
      "source": [
        "Hyperparameter Tuning for Activation Function and Kernel Initializer"
      ],
      "metadata": {
        "id": "zg7NB03C_axw"
      }
    },
    {
      "cell_type": "code",
      "source": [
        "activation= ['relu', 'tanh', 'sigmoid','linear']\n",
        "init = ['uniform','normal','zero']"
      ],
      "metadata": {
        "id": "i0KHE11S_bUL"
      },
      "execution_count": 48,
      "outputs": []
    },
    {
      "cell_type": "code",
      "source": [
        "param_grids4 = dict(activation=activation,kernel_initializer=init)"
      ],
      "metadata": {
        "id": "TysFlN_H_gOi"
      },
      "execution_count": 49,
      "outputs": []
    },
    {
      "cell_type": "code",
      "source": [
        "dropout_rate=0.1\n",
        "learning_rate= 0.034\n",
        "layers=5\n",
        "neurons=54\n",
        "epochs=10\n",
        "batch_size=50"
      ],
      "metadata": {
        "id": "GXM_n2t7_g9R"
      },
      "execution_count": 50,
      "outputs": []
    },
    {
      "cell_type": "code",
      "source": [
        "def create_model4(activation,kernel_initializer):\n",
        "\n",
        "    dropout_rate=0.1\n",
        "    model4 = Sequential()\n",
        "    model4.add(Dense(10, input_dim=X_train.shape[1], activation=activation,\n",
        "                    kernel_initializer=kernel_initializer))\n",
        "\n",
        "\n",
        "    model4.add(Dense(54, activation=activation,kernel_initializer=kernel_initializer))\n",
        "    model4.add(Dropout(dropout_rate))\n",
        "    model4.add(Dense(54, activation=activation,kernel_initializer=kernel_initializer))\n",
        "    model4.add(Dropout(dropout_rate))\n",
        "    model4.add(Dense(54, activation=activation,kernel_initializer=kernel_initializer))\n",
        "    model4.add(Dropout(dropout_rate))\n",
        "    model4.add(Dense(54, activation=activation,kernel_initializer=kernel_initializer))\n",
        "    model4.add(Dropout(dropout_rate))\n",
        "    model4.add(Dense(54, activation=activation,kernel_initializer=kernel_initializer))\n",
        "    model4.add(Dropout(dropout_rate))\n",
        "\n",
        "    model4.add(Dense(1, activation='linear',kernel_initializer='uniform'))\n",
        "\n",
        "\n",
        "    adam = Adam(learning_rate =0.034)\n",
        "    model4.compile(loss='mean_squared_error', optimizer='adam',  metrics=['mean_squared_error','accuracy'])\n",
        "    return model4"
      ],
      "metadata": {
        "id": "9grI87Km_q9C"
      },
      "execution_count": 51,
      "outputs": []
    },
    {
      "cell_type": "code",
      "source": [
        "model4 = KerasClassifier(build_fn = create_model4,epochs=10,batch_size=50,verbose = 0)"
      ],
      "metadata": {
        "colab": {
          "base_uri": "https://localhost:8080/"
        },
        "id": "Jvu6bV52_vuh",
        "outputId": "e71c39a3-ee80-4e13-a50d-439538fd5468"
      },
      "execution_count": 52,
      "outputs": [
        {
          "output_type": "stream",
          "name": "stderr",
          "text": [
            "<ipython-input-52-d97a5654709e>:1: DeprecationWarning: KerasClassifier is deprecated, use Sci-Keras (https://github.com/adriangb/scikeras) instead. See https://www.adriangb.com/scikeras/stable/migration.html for help migrating.\n",
            "  model4 = KerasClassifier(build_fn = create_model4,epochs=10,batch_size=50,verbose = 0)\n"
          ]
        }
      ]
    },
    {
      "cell_type": "code",
      "source": [
        "grid4 = GridSearchCV(estimator = model4,param_grid = param_grids4,cv = KFold(),verbose = 10)\n",
        "grid_result4 = grid4.fit(X_train,Y_train)"
      ],
      "metadata": {
        "colab": {
          "base_uri": "https://localhost:8080/"
        },
        "id": "tpXQV2YI_zEx",
        "outputId": "917f4428-4c1a-4f62-fd38-aa99c5adfafa"
      },
      "execution_count": 53,
      "outputs": [
        {
          "output_type": "stream",
          "name": "stdout",
          "text": [
            "Fitting 5 folds for each of 12 candidates, totalling 60 fits\n",
            "[CV 1/5; 1/12] START activation=relu, kernel_initializer=uniform................\n",
            "[CV 1/5; 1/12] END activation=relu, kernel_initializer=uniform;, score=0.000 total time=   7.3s\n",
            "[CV 2/5; 1/12] START activation=relu, kernel_initializer=uniform................\n",
            "[CV 2/5; 1/12] END activation=relu, kernel_initializer=uniform;, score=0.000 total time=   5.1s\n",
            "[CV 3/5; 1/12] START activation=relu, kernel_initializer=uniform................\n",
            "[CV 3/5; 1/12] END activation=relu, kernel_initializer=uniform;, score=0.001 total time=   7.1s\n",
            "[CV 4/5; 1/12] START activation=relu, kernel_initializer=uniform................\n",
            "[CV 4/5; 1/12] END activation=relu, kernel_initializer=uniform;, score=0.000 total time=   7.0s\n",
            "[CV 5/5; 1/12] START activation=relu, kernel_initializer=uniform................\n",
            "[CV 5/5; 1/12] END activation=relu, kernel_initializer=uniform;, score=0.000 total time=   8.6s\n",
            "[CV 1/5; 2/12] START activation=relu, kernel_initializer=normal.................\n",
            "[CV 1/5; 2/12] END activation=relu, kernel_initializer=normal;, score=0.000 total time=   7.1s\n",
            "[CV 2/5; 2/12] START activation=relu, kernel_initializer=normal.................\n",
            "[CV 2/5; 2/12] END activation=relu, kernel_initializer=normal;, score=0.000 total time=   7.1s\n",
            "[CV 3/5; 2/12] START activation=relu, kernel_initializer=normal.................\n",
            "[CV 3/5; 2/12] END activation=relu, kernel_initializer=normal;, score=0.001 total time=   7.0s\n",
            "[CV 4/5; 2/12] START activation=relu, kernel_initializer=normal.................\n",
            "[CV 4/5; 2/12] END activation=relu, kernel_initializer=normal;, score=0.000 total time=   7.0s\n",
            "[CV 5/5; 2/12] START activation=relu, kernel_initializer=normal.................\n",
            "[CV 5/5; 2/12] END activation=relu, kernel_initializer=normal;, score=0.000 total time=   5.9s\n",
            "[CV 1/5; 3/12] START activation=relu, kernel_initializer=zero...................\n",
            "[CV 1/5; 3/12] END activation=relu, kernel_initializer=zero;, score=0.000 total time=   7.1s\n",
            "[CV 2/5; 3/12] START activation=relu, kernel_initializer=zero...................\n",
            "[CV 2/5; 3/12] END activation=relu, kernel_initializer=zero;, score=0.000 total time=   5.7s\n",
            "[CV 3/5; 3/12] START activation=relu, kernel_initializer=zero...................\n",
            "[CV 3/5; 3/12] END activation=relu, kernel_initializer=zero;, score=0.001 total time=   7.2s\n",
            "[CV 4/5; 3/12] START activation=relu, kernel_initializer=zero...................\n",
            "[CV 4/5; 3/12] END activation=relu, kernel_initializer=zero;, score=0.000 total time=   7.5s\n",
            "[CV 5/5; 3/12] START activation=relu, kernel_initializer=zero...................\n",
            "[CV 5/5; 3/12] END activation=relu, kernel_initializer=zero;, score=0.000 total time=   8.0s\n",
            "[CV 1/5; 4/12] START activation=tanh, kernel_initializer=uniform................\n",
            "[CV 1/5; 4/12] END activation=tanh, kernel_initializer=uniform;, score=0.000 total time=   7.1s\n",
            "[CV 2/5; 4/12] START activation=tanh, kernel_initializer=uniform................\n",
            "[CV 2/5; 4/12] END activation=tanh, kernel_initializer=uniform;, score=0.000 total time=   6.1s\n",
            "[CV 3/5; 4/12] START activation=tanh, kernel_initializer=uniform................\n",
            "[CV 3/5; 4/12] END activation=tanh, kernel_initializer=uniform;, score=0.001 total time=   5.3s\n",
            "[CV 4/5; 4/12] START activation=tanh, kernel_initializer=uniform................\n",
            "[CV 4/5; 4/12] END activation=tanh, kernel_initializer=uniform;, score=0.000 total time=   6.0s\n",
            "[CV 5/5; 4/12] START activation=tanh, kernel_initializer=uniform................\n",
            "[CV 5/5; 4/12] END activation=tanh, kernel_initializer=uniform;, score=0.000 total time=   7.1s\n",
            "[CV 1/5; 5/12] START activation=tanh, kernel_initializer=normal.................\n",
            "[CV 1/5; 5/12] END activation=tanh, kernel_initializer=normal;, score=0.000 total time=   7.0s\n",
            "[CV 2/5; 5/12] START activation=tanh, kernel_initializer=normal.................\n",
            "[CV 2/5; 5/12] END activation=tanh, kernel_initializer=normal;, score=0.000 total time=   7.0s\n",
            "[CV 3/5; 5/12] START activation=tanh, kernel_initializer=normal.................\n",
            "[CV 3/5; 5/12] END activation=tanh, kernel_initializer=normal;, score=0.001 total time=   7.6s\n",
            "[CV 4/5; 5/12] START activation=tanh, kernel_initializer=normal.................\n",
            "[CV 4/5; 5/12] END activation=tanh, kernel_initializer=normal;, score=0.000 total time=   8.0s\n",
            "[CV 5/5; 5/12] START activation=tanh, kernel_initializer=normal.................\n",
            "[CV 5/5; 5/12] END activation=tanh, kernel_initializer=normal;, score=0.000 total time=   5.5s\n",
            "[CV 1/5; 6/12] START activation=tanh, kernel_initializer=zero...................\n",
            "[CV 1/5; 6/12] END activation=tanh, kernel_initializer=zero;, score=0.000 total time=   6.1s\n",
            "[CV 2/5; 6/12] START activation=tanh, kernel_initializer=zero...................\n",
            "[CV 2/5; 6/12] END activation=tanh, kernel_initializer=zero;, score=0.000 total time=   7.1s\n",
            "[CV 3/5; 6/12] START activation=tanh, kernel_initializer=zero...................\n",
            "[CV 3/5; 6/12] END activation=tanh, kernel_initializer=zero;, score=0.001 total time=   7.1s\n",
            "[CV 4/5; 6/12] START activation=tanh, kernel_initializer=zero...................\n",
            "[CV 4/5; 6/12] END activation=tanh, kernel_initializer=zero;, score=0.000 total time=   5.2s\n",
            "[CV 5/5; 6/12] START activation=tanh, kernel_initializer=zero...................\n",
            "[CV 5/5; 6/12] END activation=tanh, kernel_initializer=zero;, score=0.000 total time=   5.9s\n",
            "[CV 1/5; 7/12] START activation=sigmoid, kernel_initializer=uniform.............\n",
            "[CV 1/5; 7/12] END activation=sigmoid, kernel_initializer=uniform;, score=0.000 total time=   7.1s\n",
            "[CV 2/5; 7/12] START activation=sigmoid, kernel_initializer=uniform.............\n",
            "[CV 2/5; 7/12] END activation=sigmoid, kernel_initializer=uniform;, score=0.000 total time=   7.0s\n",
            "[CV 3/5; 7/12] START activation=sigmoid, kernel_initializer=uniform.............\n",
            "[CV 3/5; 7/12] END activation=sigmoid, kernel_initializer=uniform;, score=0.001 total time=   6.2s\n",
            "[CV 4/5; 7/12] START activation=sigmoid, kernel_initializer=uniform.............\n",
            "[CV 4/5; 7/12] END activation=sigmoid, kernel_initializer=uniform;, score=0.000 total time=   7.1s\n",
            "[CV 5/5; 7/12] START activation=sigmoid, kernel_initializer=uniform.............\n",
            "[CV 5/5; 7/12] END activation=sigmoid, kernel_initializer=uniform;, score=0.000 total time=   5.4s\n",
            "[CV 1/5; 8/12] START activation=sigmoid, kernel_initializer=normal..............\n",
            "[CV 1/5; 8/12] END activation=sigmoid, kernel_initializer=normal;, score=0.000 total time=   7.1s\n",
            "[CV 2/5; 8/12] START activation=sigmoid, kernel_initializer=normal..............\n",
            "[CV 2/5; 8/12] END activation=sigmoid, kernel_initializer=normal;, score=0.000 total time=   5.3s\n",
            "[CV 3/5; 8/12] START activation=sigmoid, kernel_initializer=normal..............\n",
            "[CV 3/5; 8/12] END activation=sigmoid, kernel_initializer=normal;, score=0.001 total time=   6.0s\n",
            "[CV 4/5; 8/12] START activation=sigmoid, kernel_initializer=normal..............\n",
            "[CV 4/5; 8/12] END activation=sigmoid, kernel_initializer=normal;, score=0.000 total time=   7.0s\n",
            "[CV 5/5; 8/12] START activation=sigmoid, kernel_initializer=normal..............\n",
            "[CV 5/5; 8/12] END activation=sigmoid, kernel_initializer=normal;, score=0.000 total time=   5.9s\n",
            "[CV 1/5; 9/12] START activation=sigmoid, kernel_initializer=zero................\n",
            "[CV 1/5; 9/12] END activation=sigmoid, kernel_initializer=zero;, score=0.000 total time=   5.0s\n",
            "[CV 2/5; 9/12] START activation=sigmoid, kernel_initializer=zero................\n",
            "[CV 2/5; 9/12] END activation=sigmoid, kernel_initializer=zero;, score=0.000 total time=   8.0s\n",
            "[CV 3/5; 9/12] START activation=sigmoid, kernel_initializer=zero................\n",
            "[CV 3/5; 9/12] END activation=sigmoid, kernel_initializer=zero;, score=0.001 total time=   7.1s\n",
            "[CV 4/5; 9/12] START activation=sigmoid, kernel_initializer=zero................\n",
            "[CV 4/5; 9/12] END activation=sigmoid, kernel_initializer=zero;, score=0.000 total time=   6.2s\n",
            "[CV 5/5; 9/12] START activation=sigmoid, kernel_initializer=zero................\n",
            "[CV 5/5; 9/12] END activation=sigmoid, kernel_initializer=zero;, score=0.000 total time=   5.3s\n",
            "[CV 1/5; 10/12] START activation=linear, kernel_initializer=uniform.............\n",
            "[CV 1/5; 10/12] END activation=linear, kernel_initializer=uniform;, score=0.000 total time=   7.0s\n",
            "[CV 2/5; 10/12] START activation=linear, kernel_initializer=uniform.............\n",
            "[CV 2/5; 10/12] END activation=linear, kernel_initializer=uniform;, score=0.000 total time=   7.0s\n",
            "[CV 3/5; 10/12] START activation=linear, kernel_initializer=uniform.............\n",
            "[CV 3/5; 10/12] END activation=linear, kernel_initializer=uniform;, score=0.001 total time=   7.7s\n",
            "[CV 4/5; 10/12] START activation=linear, kernel_initializer=uniform.............\n",
            "[CV 4/5; 10/12] END activation=linear, kernel_initializer=uniform;, score=0.000 total time=   5.0s\n",
            "[CV 5/5; 10/12] START activation=linear, kernel_initializer=uniform.............\n",
            "[CV 5/5; 10/12] END activation=linear, kernel_initializer=uniform;, score=0.000 total time=   7.6s\n",
            "[CV 1/5; 11/12] START activation=linear, kernel_initializer=normal..............\n",
            "[CV 1/5; 11/12] END activation=linear, kernel_initializer=normal;, score=0.000 total time=   8.0s\n",
            "[CV 2/5; 11/12] START activation=linear, kernel_initializer=normal..............\n",
            "[CV 2/5; 11/12] END activation=linear, kernel_initializer=normal;, score=0.000 total time=   7.1s\n",
            "[CV 3/5; 11/12] START activation=linear, kernel_initializer=normal..............\n",
            "[CV 3/5; 11/12] END activation=linear, kernel_initializer=normal;, score=0.001 total time=   7.1s\n",
            "[CV 4/5; 11/12] START activation=linear, kernel_initializer=normal..............\n",
            "[CV 4/5; 11/12] END activation=linear, kernel_initializer=normal;, score=0.000 total time=   7.1s\n",
            "[CV 5/5; 11/12] START activation=linear, kernel_initializer=normal..............\n",
            "[CV 5/5; 11/12] END activation=linear, kernel_initializer=normal;, score=0.000 total time=   7.7s\n",
            "[CV 1/5; 12/12] START activation=linear, kernel_initializer=zero................\n",
            "[CV 1/5; 12/12] END activation=linear, kernel_initializer=zero;, score=0.000 total time=   5.2s\n",
            "[CV 2/5; 12/12] START activation=linear, kernel_initializer=zero................\n",
            "[CV 2/5; 12/12] END activation=linear, kernel_initializer=zero;, score=0.000 total time=   5.9s\n",
            "[CV 3/5; 12/12] START activation=linear, kernel_initializer=zero................\n",
            "[CV 3/5; 12/12] END activation=linear, kernel_initializer=zero;, score=0.001 total time=   5.0s\n",
            "[CV 4/5; 12/12] START activation=linear, kernel_initializer=zero................\n",
            "[CV 4/5; 12/12] END activation=linear, kernel_initializer=zero;, score=0.000 total time=   7.1s\n",
            "[CV 5/5; 12/12] START activation=linear, kernel_initializer=zero................\n",
            "[CV 5/5; 12/12] END activation=linear, kernel_initializer=zero;, score=0.000 total time=   4.9s\n"
          ]
        }
      ]
    },
    {
      "cell_type": "code",
      "source": [
        "print('Best : {}, using {}'.format(grid_result4.best_score_,grid_result4.best_params_))"
      ],
      "metadata": {
        "colab": {
          "base_uri": "https://localhost:8080/"
        },
        "id": "36D30lKgABX5",
        "outputId": "4c218118-0271-4bf7-f6e3-74c418fc822d"
      },
      "execution_count": 54,
      "outputs": [
        {
          "output_type": "stream",
          "name": "stdout",
          "text": [
            "Best : 0.00011080332333222032, using {'activation': 'relu', 'kernel_initializer': 'uniform'}\n"
          ]
        }
      ]
    },
    {
      "cell_type": "code",
      "source": [
        "means4 = grid_result4.cv_results_[\"mean_test_score\"]\n",
        "stds4 = grid_result4.cv_results_[\"std_test_score\"]\n",
        "params4 = grid_result4.cv_results_[\"params\"]\n",
        "for mean4,stdev4,param4 in zip(means4,stds4,params4):\n",
        "  print(\"{},{} with {}\".format(mean4,stdev4,param4))"
      ],
      "metadata": {
        "colab": {
          "base_uri": "https://localhost:8080/"
        },
        "id": "KQxcPAypB_kZ",
        "outputId": "5e79e523-6e23-4ebf-ef45-c9e0a0aae26a"
      },
      "execution_count": 55,
      "outputs": [
        {
          "output_type": "stream",
          "name": "stdout",
          "text": [
            "0.00011080332333222032,0.00022160664666444067 with {'activation': 'relu', 'kernel_initializer': 'uniform'}\n",
            "0.00011080332333222032,0.00022160664666444067 with {'activation': 'relu', 'kernel_initializer': 'normal'}\n",
            "0.00011080332333222032,0.00022160664666444067 with {'activation': 'relu', 'kernel_initializer': 'zero'}\n",
            "0.00011080332333222032,0.00022160664666444067 with {'activation': 'tanh', 'kernel_initializer': 'uniform'}\n",
            "0.00011080332333222032,0.00022160664666444067 with {'activation': 'tanh', 'kernel_initializer': 'normal'}\n",
            "0.00011080332333222032,0.00022160664666444067 with {'activation': 'tanh', 'kernel_initializer': 'zero'}\n",
            "0.00011080332333222032,0.00022160664666444067 with {'activation': 'sigmoid', 'kernel_initializer': 'uniform'}\n",
            "0.00011080332333222032,0.00022160664666444067 with {'activation': 'sigmoid', 'kernel_initializer': 'normal'}\n",
            "0.00011080332333222032,0.00022160664666444067 with {'activation': 'sigmoid', 'kernel_initializer': 'zero'}\n",
            "0.00011080332333222032,0.00022160664666444067 with {'activation': 'linear', 'kernel_initializer': 'uniform'}\n",
            "0.00011080332333222032,0.00022160664666444067 with {'activation': 'linear', 'kernel_initializer': 'normal'}\n",
            "0.00011080332333222032,0.00022160664666444067 with {'activation': 'linear', 'kernel_initializer': 'zero'}\n"
          ]
        }
      ]
    },
    {
      "cell_type": "markdown",
      "source": [
        "Final Model"
      ],
      "metadata": {
        "id": "aVmEqEVuCWg-"
      }
    },
    {
      "cell_type": "code",
      "source": [
        "dropout_rate=0.1\n",
        "learning_rate= 0.034\n",
        "layers=5\n",
        "neurons=54\n",
        "kernel_initializer='uniform'\n",
        "activation='relu'\n",
        "epochs=10\n",
        "batch_size=50"
      ],
      "metadata": {
        "id": "bRIMEg3oCXHS"
      },
      "execution_count": 56,
      "outputs": []
    },
    {
      "cell_type": "code",
      "source": [
        "dropout_rate=0.1\n",
        "model = Sequential()\n",
        "model.add(Dense(10, input_dim=X_train.shape[1], activation=activation,\n",
        "                    kernel_initializer=kernel_initializer))\n",
        "\n",
        "model.add(Dense(54, activation=activation,kernel_initializer=kernel_initializer))\n",
        "model.add(Dropout(dropout_rate))\n",
        "model.add(Dense(54, activation=activation,kernel_initializer=kernel_initializer))\n",
        "model.add(Dropout(dropout_rate))\n",
        "model.add(Dense(54, activation=activation,kernel_initializer=kernel_initializer))\n",
        "model.add(Dropout(dropout_rate))\n",
        "model.add(Dense(54, activation=activation,kernel_initializer=kernel_initializer))\n",
        "model.add(Dropout(dropout_rate))\n",
        "model.add(Dense(54, activation=activation,kernel_initializer=kernel_initializer))\n",
        "model.add(Dropout(dropout_rate))\n",
        "\n",
        "model.add(Dense(1, activation='linear',kernel_initializer='uniform'))\n",
        "\n",
        "adam = Adam(learning_rate =0.034)\n",
        "model.compile(loss='mean_squared_error', optimizer='adam',  metrics=['mean_squared_error','accuracy'])"
      ],
      "metadata": {
        "id": "W28DOXG1CdVz"
      },
      "execution_count": 57,
      "outputs": []
    },
    {
      "cell_type": "markdown",
      "source": [
        "Train the model and store the history"
      ],
      "metadata": {
        "id": "MHPpevnrCtuv"
      }
    },
    {
      "cell_type": "code",
      "source": [
        "history = model.fit(X_train, Y_train, epochs=10, batch_size=50, validation_data=(X_test, Y_test))"
      ],
      "metadata": {
        "colab": {
          "base_uri": "https://localhost:8080/"
        },
        "id": "O6951mhQCfUi",
        "outputId": "0cc7044a-c426-4528-fa4f-d52727d862a4"
      },
      "execution_count": 58,
      "outputs": [
        {
          "output_type": "stream",
          "name": "stdout",
          "text": [
            "Epoch 1/10\n",
            "181/181 [==============================] - 3s 5ms/step - loss: 0.5125 - mean_squared_error: 0.5125 - accuracy: 0.0000e+00 - val_loss: 0.0144 - val_mean_squared_error: 0.0144 - val_accuracy: 0.0000e+00\n",
            "Epoch 2/10\n",
            "181/181 [==============================] - 1s 4ms/step - loss: 0.0385 - mean_squared_error: 0.0385 - accuracy: 0.0000e+00 - val_loss: 0.0038 - val_mean_squared_error: 0.0038 - val_accuracy: 0.0000e+00\n",
            "Epoch 3/10\n",
            "181/181 [==============================] - 1s 5ms/step - loss: 0.0300 - mean_squared_error: 0.0300 - accuracy: 0.0000e+00 - val_loss: 0.0095 - val_mean_squared_error: 0.0095 - val_accuracy: 0.0000e+00\n",
            "Epoch 4/10\n",
            "181/181 [==============================] - 1s 5ms/step - loss: 0.0279 - mean_squared_error: 0.0279 - accuracy: 0.0000e+00 - val_loss: 0.0035 - val_mean_squared_error: 0.0035 - val_accuracy: 0.0000e+00\n",
            "Epoch 5/10\n",
            "181/181 [==============================] - 1s 4ms/step - loss: 0.0255 - mean_squared_error: 0.0255 - accuracy: 0.0000e+00 - val_loss: 0.0056 - val_mean_squared_error: 0.0056 - val_accuracy: 0.0000e+00\n",
            "Epoch 6/10\n",
            "181/181 [==============================] - 1s 5ms/step - loss: 0.0243 - mean_squared_error: 0.0243 - accuracy: 0.0000e+00 - val_loss: 0.0039 - val_mean_squared_error: 0.0039 - val_accuracy: 0.0000e+00\n",
            "Epoch 7/10\n",
            "181/181 [==============================] - 1s 5ms/step - loss: 0.0217 - mean_squared_error: 0.0217 - accuracy: 0.0000e+00 - val_loss: 0.0046 - val_mean_squared_error: 0.0046 - val_accuracy: 0.0000e+00\n",
            "Epoch 8/10\n",
            "181/181 [==============================] - 1s 6ms/step - loss: 0.0212 - mean_squared_error: 0.0212 - accuracy: 0.0000e+00 - val_loss: 0.0053 - val_mean_squared_error: 0.0053 - val_accuracy: 0.0000e+00\n",
            "Epoch 9/10\n",
            "181/181 [==============================] - 1s 6ms/step - loss: 0.0206 - mean_squared_error: 0.0206 - accuracy: 0.0000e+00 - val_loss: 0.0062 - val_mean_squared_error: 0.0062 - val_accuracy: 0.0000e+00\n",
            "Epoch 10/10\n",
            "181/181 [==============================] - 1s 4ms/step - loss: 0.0198 - mean_squared_error: 0.0198 - accuracy: 0.0000e+00 - val_loss: 0.0054 - val_mean_squared_error: 0.0054 - val_accuracy: 0.0000e+00\n"
          ]
        }
      ]
    },
    {
      "cell_type": "code",
      "source": [
        "# Plot training and validation accuracy curves\n",
        "plt.plot(history.history['accuracy'], label='Training accuracy')\n",
        "plt.plot(history.history['val_accuracy'], label='Validation accuracy')\n",
        "plt.title('Training and Validation Accuracy')\n",
        "plt.xlabel('Epoch')\n",
        "plt.ylabel('Accuracy')\n",
        "plt.legend()\n",
        "plt.show()"
      ],
      "metadata": {
        "colab": {
          "base_uri": "https://localhost:8080/",
          "height": 472
        },
        "id": "Ae-g0NwuC2UM",
        "outputId": "f9e4da3b-80fe-4dce-f52d-1185541de6a3"
      },
      "execution_count": 59,
      "outputs": [
        {
          "output_type": "display_data",
          "data": {
            "text/plain": [
              "<Figure size 640x480 with 1 Axes>"
            ],
            "image/png": "[encoded data removed]"
          },
          "metadata": {}
        }
      ]
    },
    {
      "cell_type": "code",
      "source": [
        "# Plot training and validation loss curves\n",
        "plt.plot(history.history['loss'], label='Training loss')\n",
        "plt.plot(history.history['val_loss'], label='Validation loss')\n",
        "plt.title('Training and Validation Loss')\n",
        "plt.xlabel('Epoch')\n",
        "plt.ylabel('Loss')\n",
        "plt.legend()\n",
        "plt.show()"
      ],
      "metadata": {
        "colab": {
          "base_uri": "https://localhost:8080/",
          "height": 472
        },
        "id": "bdrYgcU3C2Wm",
        "outputId": "a368635a-d913-4818-a565-b9faaa58283e"
      },
      "execution_count": 60,
      "outputs": [
        {
          "output_type": "display_data",
          "data": {
            "text/plain": [
              "<Figure size 640x480 with 1 Axes>"
            ],
            "image/png": "[encoded data removed]"
          },
          "metadata": {}
        }
      ]
    },
    {
      "cell_type": "markdown",
      "source": [
        "Visualization"
      ],
      "metadata": {
        "id": "Ew-8mf8XDEK4"
      }
    },
    {
      "cell_type": "code",
      "source": [
        "from keras.utils import plot_model\n",
        "plot_model(model, to_file='modelf.png', show_shapes=True)"
      ],
      "metadata": {
        "colab": {
          "base_uri": "https://localhost:8080/",
          "height": 1000
        },
        "id": "UX4CI_njDC7a",
        "outputId": "61c149a4-ea85-4477-bb5d-1b54c641717e"
      },
      "execution_count": 61,
      "outputs": [
        {
          "output_type": "execute_result",
          "data": {
            "image/png": "[encoded data removed]",
            "text/plain": [
              "<IPython.core.display.Image object>"
            ]
          },
          "metadata": {},
          "execution_count": 61
        }
      ]
    },
    {
      "cell_type": "markdown",
      "source": [
        "Conclusion:\n",
        "\n",
        "By tuning each parameters batchwise saperately we got our model parameters. So, by different visualization method we can see that the loss is reducing."
      ],
      "metadata": {
        "id": "eH0pQHMEDQpD"
      }
    }
  ]
}