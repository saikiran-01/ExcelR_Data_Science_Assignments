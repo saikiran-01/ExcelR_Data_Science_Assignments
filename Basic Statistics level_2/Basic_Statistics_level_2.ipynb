{
  "nbformat": 4,
  "nbformat_minor": 0,
  "metadata": {
    "colab": {
      "provenance": []
    },
    "kernelspec": {
      "name": "python3",
      "display_name": "Python 3"
    },
    "language_info": {
      "name": "python"
    }
  },
  "cells": [
    {
      "cell_type": "markdown",
      "source": [
        "**SET-1: Descriptive + Statistics + Probability**"
      ],
      "metadata": {
        "id": "2xwMeT-Qz1SY"
      }
    },
    {
      "cell_type": "markdown",
      "source": [
        "\tQ1) Look at the data given below. Plot the data, find the outliers and find out  μ,σ,σ^2\n",
        "\n",
        "Name of company\tMeasure X\n",
        "Allied Signal\t24.23%\n",
        "Bankers Trust\t25.53%\n",
        "General Mills\t25.41%\n",
        "ITT Industries\t24.14%\n",
        "J.P.Morgan & Co.\t29.62%\n",
        "Lehman Brothers\t28.25%\n",
        "Marriott\t25.81%\n",
        "MCI\t24.39%\n",
        "Merrill Lynch\t40.26%\n",
        "Microsoft\t32.95%\n",
        "Morgan Stanley\t91.36%\n",
        "Sun Microsystems\t25.99%\n",
        "Travelers\t39.42%\n",
        "US Airways\t26.71%\n",
        "Warner-Lambert\t35.00%\n"
      ],
      "metadata": {
        "id": "8o1eJsdD0KRj"
      }
    },
    {
      "cell_type": "code",
      "execution_count": null,
      "metadata": {
        "id": "SRZx25g-znlv"
      },
      "outputs": [],
      "source": [
        "from scipy import stats\n",
        "import numpy as np\n",
        "import statistics as st\n",
        "import pandas as pd\n",
        "import matplotlib.pyplot as plt\n",
        "import math"
      ]
    },
    {
      "cell_type": "code",
      "source": [
        "comp=pd.DataFrame({'Company':['Allied Signal',\n",
        "'Bankers Trust',\n",
        "'General Mills',\n",
        "'ITT Industries',\n",
        "'J.P.Morgan & Co',\n",
        "'Lehman Brothers',\n",
        "'Marriott',\n",
        "'MCI',\n",
        "'Merrill Lynch',\n",
        "'Microsoft',\n",
        "'Morgan Stanley',\n",
        "'Sun Microsystems',\n",
        "'Travelers',\n",
        "'US Airways',\n",
        "'Warner-Lambert'],'Measurex':[24.23,25.53,25.41,24.14,29.62,28.25,25.81,24.39,40.26,32.95,91.36,25.99,39.42,26.71,35.00]})\n",
        "comp"
      ],
      "metadata": {
        "colab": {
          "base_uri": "https://localhost:8080/",
          "height": 520
        },
        "id": "jgAmpKBR0fY5",
        "outputId": "74f61101-7b83-4d5a-f29d-fc996f95b447"
      },
      "execution_count": null,
      "outputs": [
        {
          "output_type": "execute_result",
          "data": {
            "text/plain": [
              "             Company  Measurex\n",
              "0      Allied Signal     24.23\n",
              "1      Bankers Trust     25.53\n",
              "2      General Mills     25.41\n",
              "3     ITT Industries     24.14\n",
              "4    J.P.Morgan & Co     29.62\n",
              "5    Lehman Brothers     28.25\n",
              "6           Marriott     25.81\n",
              "7                MCI     24.39\n",
              "8      Merrill Lynch     40.26\n",
              "9          Microsoft     32.95\n",
              "10    Morgan Stanley     91.36\n",
              "11  Sun Microsystems     25.99\n",
              "12         Travelers     39.42\n",
              "13        US Airways     26.71\n",
              "14    Warner-Lambert     35.00"
            ],
            "text/html": [
              "\n",
              "\n",
              "  <div id=\"df-562672e2-f97a-40b1-9f5e-a5dc5aaa69aa\">\n",
              "    <div class=\"colab-df-container\">\n",
              "      <div>\n",
              "<style scoped>\n",
              "    .dataframe tbody tr th:only-of-type {\n",
              "        vertical-align: middle;\n",
              "    }\n",
              "\n",
              "    .dataframe tbody tr th {\n",
              "        vertical-align: top;\n",
              "    }\n",
              "\n",
              "    .dataframe thead th {\n",
              "        text-align: right;\n",
              "    }\n",
              "</style>\n",
              "<table border=\"1\" class=\"dataframe\">\n",
              "  <thead>\n",
              "    <tr style=\"text-align: right;\">\n",
              "      <th></th>\n",
              "      <th>Company</th>\n",
              "      <th>Measurex</th>\n",
              "    </tr>\n",
              "  </thead>\n",
              "  <tbody>\n",
              "    <tr>\n",
              "      <th>0</th>\n",
              "      <td>Allied Signal</td>\n",
              "      <td>24.23</td>\n",
              "    </tr>\n",
              "    <tr>\n",
              "      <th>1</th>\n",
              "      <td>Bankers Trust</td>\n",
              "      <td>25.53</td>\n",
              "    </tr>\n",
              "    <tr>\n",
              "      <th>2</th>\n",
              "      <td>General Mills</td>\n",
              "      <td>25.41</td>\n",
              "    </tr>\n",
              "    <tr>\n",
              "      <th>3</th>\n",
              "      <td>ITT Industries</td>\n",
              "      <td>24.14</td>\n",
              "    </tr>\n",
              "    <tr>\n",
              "      <th>4</th>\n",
              "      <td>J.P.Morgan &amp; Co</td>\n",
              "      <td>29.62</td>\n",
              "    </tr>\n",
              "    <tr>\n",
              "      <th>5</th>\n",
              "      <td>Lehman Brothers</td>\n",
              "      <td>28.25</td>\n",
              "    </tr>\n",
              "    <tr>\n",
              "      <th>6</th>\n",
              "      <td>Marriott</td>\n",
              "      <td>25.81</td>\n",
              "    </tr>\n",
              "    <tr>\n",
              "      <th>7</th>\n",
              "      <td>MCI</td>\n",
              "      <td>24.39</td>\n",
              "    </tr>\n",
              "    <tr>\n",
              "      <th>8</th>\n",
              "      <td>Merrill Lynch</td>\n",
              "      <td>40.26</td>\n",
              "    </tr>\n",
              "    <tr>\n",
              "      <th>9</th>\n",
              "      <td>Microsoft</td>\n",
              "      <td>32.95</td>\n",
              "    </tr>\n",
              "    <tr>\n",
              "      <th>10</th>\n",
              "      <td>Morgan Stanley</td>\n",
              "      <td>91.36</td>\n",
              "    </tr>\n",
              "    <tr>\n",
              "      <th>11</th>\n",
              "      <td>Sun Microsystems</td>\n",
              "      <td>25.99</td>\n",
              "    </tr>\n",
              "    <tr>\n",
              "      <th>12</th>\n",
              "      <td>Travelers</td>\n",
              "      <td>39.42</td>\n",
              "    </tr>\n",
              "    <tr>\n",
              "      <th>13</th>\n",
              "      <td>US Airways</td>\n",
              "      <td>26.71</td>\n",
              "    </tr>\n",
              "    <tr>\n",
              "      <th>14</th>\n",
              "      <td>Warner-Lambert</td>\n",
              "      <td>35.00</td>\n",
              "    </tr>\n",
              "  </tbody>\n",
              "</table>\n",
              "</div>\n",
              "      <button class=\"colab-df-convert\" onclick=\"convertToInteractive('df-562672e2-f97a-40b1-9f5e-a5dc5aaa69aa')\"\n",
              "              title=\"Convert this dataframe to an interactive table.\"\n",
              "              style=\"display:none;\">\n",
              "\n",
              "  <svg xmlns=\"http://www.w3.org/2000/svg\" height=\"24px\"viewBox=\"0 0 24 24\"\n",
              "       width=\"24px\">\n",
              "    <path d=\"M0 0h24v24H0V0z\" fill=\"none\"/>\n",
              "    <path d=\"M18.56 5.44l.94 2.06.94-2.06 2.06-.94-2.06-.94-.94-2.06-.94 2.06-2.06.94zm-11 1L8.5 8.5l.94-2.06 2.06-.94-2.06-.94L8.5 2.5l-.94 2.06-2.06.94zm10 10l.94 2.06.94-2.06 2.06-.94-2.06-.94-.94-2.06-.94 2.06-2.06.94z\"/><path d=\"M17.41 7.96l-1.37-1.37c-.4-.4-.92-.59-1.43-.59-.52 0-1.04.2-1.43.59L10.3 9.45l-7.72 7.72c-.78.78-.78 2.05 0 2.83L4 21.41c.39.39.9.59 1.41.59.51 0 1.02-.2 1.41-.59l7.78-7.78 2.81-2.81c.8-.78.8-2.07 0-2.86zM5.41 20L4 18.59l7.72-7.72 1.47 1.35L5.41 20z\"/>\n",
              "  </svg>\n",
              "      </button>\n",
              "\n",
              "\n",
              "\n",
              "    <div id=\"df-244e1aca-2ed8-4f2f-833f-d3844c7aa040\">\n",
              "      <button class=\"colab-df-quickchart\" onclick=\"quickchart('df-244e1aca-2ed8-4f2f-833f-d3844c7aa040')\"\n",
              "              title=\"Suggest charts.\"\n",
              "              style=\"display:none;\">\n",
              "\n",
              "<svg xmlns=\"http://www.w3.org/2000/svg\" height=\"24px\"viewBox=\"0 0 24 24\"\n",
              "     width=\"24px\">\n",
              "    <g>\n",
              "        <path d=\"M19 3H5c-1.1 0-2 .9-2 2v14c0 1.1.9 2 2 2h14c1.1 0 2-.9 2-2V5c0-1.1-.9-2-2-2zM9 17H7v-7h2v7zm4 0h-2V7h2v10zm4 0h-2v-4h2v4z\"/>\n",
              "    </g>\n",
              "</svg>\n",
              "      </button>\n",
              "    </div>\n",
              "\n",
              "<style>\n",
              "  .colab-df-quickchart {\n",
              "    background-color: #E8F0FE;\n",
              "    border: none;\n",
              "    border-radius: 50%;\n",
              "    cursor: pointer;\n",
              "    display: none;\n",
              "    fill: #1967D2;\n",
              "    height: 32px;\n",
              "    padding: 0 0 0 0;\n",
              "    width: 32px;\n",
              "  }\n",
              "\n",
              "  .colab-df-quickchart:hover {\n",
              "    background-color: #E2EBFA;\n",
              "    box-shadow: 0px 1px 2px rgba(60, 64, 67, 0.3), 0px 1px 3px 1px rgba(60, 64, 67, 0.15);\n",
              "    fill: #174EA6;\n",
              "  }\n",
              "\n",
              "  [theme=dark] .colab-df-quickchart {\n",
              "    background-color: #3B4455;\n",
              "    fill: #D2E3FC;\n",
              "  }\n",
              "\n",
              "  [theme=dark] .colab-df-quickchart:hover {\n",
              "    background-color: #434B5C;\n",
              "    box-shadow: 0px 1px 3px 1px rgba(0, 0, 0, 0.15);\n",
              "    filter: drop-shadow(0px 1px 2px rgba(0, 0, 0, 0.3));\n",
              "    fill: #FFFFFF;\n",
              "  }\n",
              "</style>\n",
              "\n",
              "    <script>\n",
              "      async function quickchart(key) {\n",
              "        const containerElement = document.querySelector('#' + key);\n",
              "        const charts = await google.colab.kernel.invokeFunction(\n",
              "            'suggestCharts', [key], {});\n",
              "      }\n",
              "    </script>\n",
              "\n",
              "      <script>\n",
              "\n",
              "function displayQuickchartButton(domScope) {\n",
              "  let quickchartButtonEl =\n",
              "    domScope.querySelector('#df-244e1aca-2ed8-4f2f-833f-d3844c7aa040 button.colab-df-quickchart');\n",
              "  quickchartButtonEl.style.display =\n",
              "    google.colab.kernel.accessAllowed ? 'block' : 'none';\n",
              "}\n",
              "\n",
              "        displayQuickchartButton(document);\n",
              "      </script>\n",
              "      <style>\n",
              "    .colab-df-container {\n",
              "      display:flex;\n",
              "      flex-wrap:wrap;\n",
              "      gap: 12px;\n",
              "    }\n",
              "\n",
              "    .colab-df-convert {\n",
              "      background-color: #E8F0FE;\n",
              "      border: none;\n",
              "      border-radius: 50%;\n",
              "      cursor: pointer;\n",
              "      display: none;\n",
              "      fill: #1967D2;\n",
              "      height: 32px;\n",
              "      padding: 0 0 0 0;\n",
              "      width: 32px;\n",
              "    }\n",
              "\n",
              "    .colab-df-convert:hover {\n",
              "      background-color: #E2EBFA;\n",
              "      box-shadow: 0px 1px 2px rgba(60, 64, 67, 0.3), 0px 1px 3px 1px rgba(60, 64, 67, 0.15);\n",
              "      fill: #174EA6;\n",
              "    }\n",
              "\n",
              "    [theme=dark] .colab-df-convert {\n",
              "      background-color: #3B4455;\n",
              "      fill: #D2E3FC;\n",
              "    }\n",
              "\n",
              "    [theme=dark] .colab-df-convert:hover {\n",
              "      background-color: #434B5C;\n",
              "      box-shadow: 0px 1px 3px 1px rgba(0, 0, 0, 0.15);\n",
              "      filter: drop-shadow(0px 1px 2px rgba(0, 0, 0, 0.3));\n",
              "      fill: #FFFFFF;\n",
              "    }\n",
              "  </style>\n",
              "\n",
              "      <script>\n",
              "        const buttonEl =\n",
              "          document.querySelector('#df-562672e2-f97a-40b1-9f5e-a5dc5aaa69aa button.colab-df-convert');\n",
              "        buttonEl.style.display =\n",
              "          google.colab.kernel.accessAllowed ? 'block' : 'none';\n",
              "\n",
              "        async function convertToInteractive(key) {\n",
              "          const element = document.querySelector('#df-562672e2-f97a-40b1-9f5e-a5dc5aaa69aa');\n",
              "          const dataTable =\n",
              "            await google.colab.kernel.invokeFunction('convertToInteractive',\n",
              "                                                     [key], {});\n",
              "          if (!dataTable) return;\n",
              "\n",
              "          const docLinkHtml = 'Like what you see? Visit the ' +\n",
              "            '<a target=\"_blank\" href=https://colab.research.google.com/notebooks/data_table.ipynb>data table notebook</a>'\n",
              "            + ' to learn more about interactive tables.';\n",
              "          element.innerHTML = '';\n",
              "          dataTable['output_type'] = 'display_data';\n",
              "          await google.colab.output.renderOutput(dataTable, element);\n",
              "          const docLink = document.createElement('div');\n",
              "          docLink.innerHTML = docLinkHtml;\n",
              "          element.appendChild(docLink);\n",
              "        }\n",
              "      </script>\n",
              "    </div>\n",
              "  </div>\n"
            ]
          },
          "metadata": {},
          "execution_count": 5
        }
      ]
    },
    {
      "cell_type": "code",
      "source": [
        "Mean = comp['Measurex'].mean()\n",
        "Variance = comp['Measurex'].var()\n",
        "StDev = comp['Measurex'].std()\n",
        "print(\"The Mean is: \" , Mean , \"The Variance is: \" , Variance , \"The standard Deviation is: \" , StDev)"
      ],
      "metadata": {
        "colab": {
          "base_uri": "https://localhost:8080/"
        },
        "id": "g6YufUxa1Q8g",
        "outputId": "0cecb55d-6020-4ec0-ef78-2f1f2a2fca20"
      },
      "execution_count": null,
      "outputs": [
        {
          "output_type": "stream",
          "name": "stdout",
          "text": [
            "The Mean is:  33.27133333333333 The Variance is:  287.1466123809524 The standard Deviation is:  16.945400921222028\n"
          ]
        }
      ]
    },
    {
      "cell_type": "code",
      "source": [
        "#Plot the graph\n",
        "plt.figure(figsize=(5,5))\n",
        "plt.boxplot(comp['Measurex'])"
      ],
      "metadata": {
        "colab": {
          "base_uri": "https://localhost:8080/",
          "height": 584
        },
        "id": "Elb_351W2JHi",
        "outputId": "5a57aac1-a737-4174-e5e6-1a7dec316fb8"
      },
      "execution_count": null,
      "outputs": [
        {
          "output_type": "execute_result",
          "data": {
            "text/plain": [
              "{'whiskers': [<matplotlib.lines.Line2D at 0x7f11a65bf100>,\n",
              "  <matplotlib.lines.Line2D at 0x7f11a65bf3a0>],\n",
              " 'caps': [<matplotlib.lines.Line2D at 0x7f11a65bf640>,\n",
              "  <matplotlib.lines.Line2D at 0x7f11a65bf8e0>],\n",
              " 'boxes': [<matplotlib.lines.Line2D at 0x7f11a65bee60>],\n",
              " 'medians': [<matplotlib.lines.Line2D at 0x7f11a65bfb80>],\n",
              " 'fliers': [<matplotlib.lines.Line2D at 0x7f11a65bfe20>],\n",
              " 'means': []}"
            ]
          },
          "metadata": {},
          "execution_count": 13
        },
        {
          "output_type": "display_data",
          "data": {
            "text/plain": [
              "<Figure size 500x500 with 1 Axes>"
            ],
            "image/png": "[encoded data removed]"
          },
          "metadata": {}
        }
      ]
    },
    {
      "cell_type": "code",
      "source": [
        "#To find the outliers\n",
        "Q1 = np.quantile(comp[\"Measurex\"],0.25)\n",
        "Q3 = np.quantile(comp[\"Measurex\"],0.75)\n",
        "Interquartile = Q3 - Q1\n",
        "print('Interquartile is :', Interquartile)\n",
        "lowerlimit = Q1 - 1.5*Interquartile\n",
        "print('LowerLimit is :', lowerlimit)\n",
        "Upperlimit = Q3 + 1.5*Interquartile\n",
        "print('UpperLimit is :', Upperlimit)"
      ],
      "metadata": {
        "colab": {
          "base_uri": "https://localhost:8080/"
        },
        "id": "CtkPZlhv2uIb",
        "outputId": "4dd86de4-a5f5-4616-f103-9551fc17ea1b"
      },
      "execution_count": null,
      "outputs": [
        {
          "output_type": "stream",
          "name": "stdout",
          "text": [
            "Interquartile is : 8.505000000000003\n",
            "LowerLimit is : 12.712499999999995\n",
            "UpperLimit is : 46.7325\n"
          ]
        }
      ]
    },
    {
      "cell_type": "markdown",
      "source": [
        "**SET-2: Normal Distribution and Functions of Random Variables**"
      ],
      "metadata": {
        "id": "cqM7dfTZWJzo"
      }
    },
    {
      "cell_type": "markdown",
      "source": [
        "5.\tConsider a company that has two different divisions. The annual profits from the two divisions are independent and have distributions Profit1 ~ N(5, 32) and Profit2 ~ N(7, 42) respectively. Both the profits are in $ Million. Answer the following questions about the total profit of the company in Rupees. Assume that $1 = Rs. 45\n",
        "A.\tSpecify a Rupee range (centered on the mean) such that it contains 95% probability for the annual profit of the company.\n",
        "B.\tSpecify the 5th percentile of profit (in Rupees) for the company\n",
        "C.\tWhich of the two divisions has a larger probability of making a loss in a given year?\n"
      ],
      "metadata": {
        "id": "lN3_xfFZWrL-"
      }
    },
    {
      "cell_type": "code",
      "source": [
        "#A.Specify a Rupee range (centered on the mean) such that it contains 95% probability for the annual profit of the company.\n",
        "mean1=5*45\n",
        "print(\"Mean of divison1 in $:\",mean1,\"Million\")\n",
        "std1=3\n",
        "mean2=7*45\n",
        "print(\"Mean of division2  in $:\",mean2,\"Million\")\n",
        "std2=4\n",
        "#A Rupee range (centered on the mean) such that it contains 95% probability for the annual profit of the company\n",
        "mean_company=mean1+mean2\n",
        "STD_company=np.sqrt(9+16)*45\n",
        "rupee_range=stats.norm.interval(0.95,mean_company,STD_company)\n",
        "print(\"The mean of the company in Million$ is:\",mean_company)\n",
        "print(\"The STD of the company in Million$ is:\",STD_company)\n",
        "print(\"Rupee range contains 95% probability for the annual profit of the company:\",rupee_range,\"in Million$\")\n"
      ],
      "metadata": {
        "colab": {
          "base_uri": "https://localhost:8080/"
        },
        "id": "K6m2Dh9MWqaV",
        "outputId": "0f89a81e-5c5d-4d5a-e700-382eef17638b"
      },
      "execution_count": null,
      "outputs": [
        {
          "output_type": "stream",
          "name": "stdout",
          "text": [
            "Mean of divison1 in $: 225 Million\n",
            "Mean of division2  in $: 315 Million\n",
            "The mean of the company in Million$ is: 540\n",
            "The STD of the company in Million$ is: 225.0\n",
            "Rupee range contains 95% probability for the annual profit of the company: (99.00810347848784, 980.9918965215122) in Million$\n"
          ]
        }
      ]
    },
    {
      "cell_type": "code",
      "source": [
        "#B.Specify the 5th percentile of profit (in Rupees) for the company\n",
        "from numpy.lib.function_base import percentile\n",
        "# 5th percentile is obtained from z-table\n",
        "z5=stats.norm.ppf(0.05)\n",
        "z5\n",
        "#5th percentile of profit is from Z=(X-Mean)/STD\n",
        "X=(z5*STD_company)+mean_company\n",
        "print(\"5th percentile of profit (in Rupees) for the company in Million$:\",X)"
      ],
      "metadata": {
        "colab": {
          "base_uri": "https://localhost:8080/"
        },
        "id": "2vXZS5rEXTeO",
        "outputId": "96506279-4072-4ed6-ede0-d466b06d550c"
      },
      "execution_count": null,
      "outputs": [
        {
          "output_type": "stream",
          "name": "stdout",
          "text": [
            "5th percentile of profit (in Rupees) for the company in Million$: 169.9079339359186\n"
          ]
        }
      ]
    },
    {
      "cell_type": "code",
      "source": [
        "#C.Which of the two divisions has a larger probability of making a loss in a given year?\n",
        "probability_loss_1=stats.norm.cdf(0,5,3)\n",
        "probability_loss_2=stats.norm.cdf(0,7,4)\n",
        "print(\"probability of making loss by division 1:\",probability_loss_1)\n",
        "print(\"probability of making loss by division 2:\",probability_loss_2)\n",
        "#Hence, the first division of company, thus have large probability of making  Loss in a given year."
      ],
      "metadata": {
        "colab": {
          "base_uri": "https://localhost:8080/"
        },
        "id": "yJHgovqCZPkf",
        "outputId": "639a0d6d-a8f6-4d17-80df-ae080f88cab4"
      },
      "execution_count": null,
      "outputs": [
        {
          "output_type": "stream",
          "name": "stdout",
          "text": [
            "probability of making loss by division 1: 0.0477903522728147\n",
            "probability of making loss by division 2: 0.040059156863817086\n"
          ]
        }
      ]
    },
    {
      "cell_type": "markdown",
      "source": [
        "**SET-3**"
      ],
      "metadata": {
        "id": "ZtmqS1r2uGzo"
      }
    },
    {
      "cell_type": "markdown",
      "source": [
        "5. In January 2005, a company that monitors Internet traffic (WebSideStory) reported that its sampling revealed that the Mozilla Firefox browser launched in 2004 had grabbed a 4.6% share of the market.\n",
        "\n",
        "I. If the sample were based on 2,000 users, could Microsoft conclude that Mozilla has a less than 5% share of the market?"
      ],
      "metadata": {
        "id": "msdVU7VA7Vu_"
      }
    },
    {
      "cell_type": "code",
      "source": [
        "#H0=>5%\n",
        "#Ha<5%\n",
        "import numpy as np\n",
        "import scipy.stats as stats\n",
        "p=0.05\n",
        "q=1-p\n",
        "alpha=0.05\n",
        "phat=0.046\n",
        "n=2000\n",
        "#Here we uses one sample z test for proportions\n",
        "z_score=(phat-p)/(np.sqrt(p*q/n))\n",
        "print(z_score)\n",
        "p_value=1-stats.norm.cdf(abs(z_score))#since H0=>5% so we need to do 1-probabiliy of <5%\n",
        "print(\"p_value:\",p_value)"
      ],
      "metadata": {
        "colab": {
          "base_uri": "https://localhost:8080/"
        },
        "id": "FYU4Udb_uJzq",
        "outputId": "872194d6-1f3e-47ac-e3c9-91d80ec2784a"
      },
      "execution_count": 1,
      "outputs": [
        {
          "output_type": "stream",
          "name": "stdout",
          "text": [
            "-0.820782681668124\n",
            "p_value: 0.20588503245107104\n"
          ]
        }
      ]
    },
    {
      "cell_type": "markdown",
      "source": [
        "Questions 8 and 9 are based on the following: To prepare a report on the economy, analysts need to estimate the percentage of businesses that plan to hire additional employees in the next 60 days."
      ],
      "metadata": {
        "id": "icSDMEErAKGE"
      }
    },
    {
      "cell_type": "markdown",
      "source": [
        "8.\tHow many randomly selected employers (minimum number) must we contact in order to guarantee a margin of error of no more than 4% (at 95% confidence)?\n",
        "\n",
        "A.\t600\n",
        "B.\t400\n",
        "C.\t550\n",
        "D.\t1000\n"
      ],
      "metadata": {
        "id": "5SJe2YCdALB9"
      }
    },
    {
      "cell_type": "code",
      "source": [
        "#Error=z/((p*q)/sqrt(n))\n",
        "#n=(Error)^2(p*q)/z\n",
        "import math as mth\n",
        "phat=0.5\n",
        "q=0.5\n",
        "CI=0.95\n",
        "alpha=1-CI\n",
        "z_value=stats.norm.ppf(alpha/2)\n",
        "z_value\n",
        "n=(((z_value)**2)*0.5*0.5/(0.04)**2)\n",
        "round(n)"
      ],
      "metadata": {
        "colab": {
          "base_uri": "https://localhost:8080/"
        },
        "id": "fm3CMnntAPwa",
        "outputId": "8df9f28d-f682-418d-9afb-b4cb1f389482"
      },
      "execution_count": 5,
      "outputs": [
        {
          "output_type": "execute_result",
          "data": {
            "text/plain": [
              "600"
            ]
          },
          "metadata": {},
          "execution_count": 5
        }
      ]
    },
    {
      "cell_type": "markdown",
      "source": [
        "9.\tSuppose we want the above margin of error to be based on a 98% confidence level. What sample size (minimum) must we now use?\n",
        "\n",
        "A.\t1000\n",
        "B.\t757\n",
        "C.\t848\n",
        "D.\t543\n"
      ],
      "metadata": {
        "id": "Gl_7m8RsBBKT"
      }
    },
    {
      "cell_type": "code",
      "source": [
        "import math as mth\n",
        "phat=0.5\n",
        "q=0.5\n",
        "CI2=0.98\n",
        "alpha2=1-CI2\n",
        "z_value2=stats.norm.ppf((alpha2)/2)\n",
        "z_value2\n",
        "n=(((z_value2)**2)*0.5*0.5/(0.04)**2)\n",
        "round(n)"
      ],
      "metadata": {
        "colab": {
          "base_uri": "https://localhost:8080/"
        },
        "id": "G1VnSgnRBAIV",
        "outputId": "eac2666d-a35f-4d9c-cf1d-254cb77512db"
      },
      "execution_count": 6,
      "outputs": [
        {
          "output_type": "execute_result",
          "data": {
            "text/plain": [
              "846"
            ]
          },
          "metadata": {},
          "execution_count": 6
        }
      ]
    },
    {
      "cell_type": "markdown",
      "source": [
        "**SET-4: Sampling Distributions and Central Limit Theorem**"
      ],
      "metadata": {
        "id": "UURAujmzB2O-"
      }
    },
    {
      "cell_type": "markdown",
      "source": [
        "3. Auditors at a small community bank randomly sample 100 withdrawal transactions\n",
        "\n",
        "made during the week at an ATM machine located near the bank’s main branch.\n",
        "\n",
        "Over the past 2 years, the average withdrawal amount has been\n",
        "40.\n",
        "\n",
        "Since audit investigations are typically expensive, the auditors decide to not initiate further investigations\n",
        "\n",
        "are typically expensive, the auditors decide to not initiate further investigations if\n",
        "\n",
        "the mean transaction amount of the sample is between\n",
        "55. What is the\n",
        "\n",
        "probability that in any given week, there will be an investigation?\n",
        "\n",
        "A. 1.25%\n",
        "\n",
        "B. 2.5%\n",
        "\n",
        "C. 10.55%\n",
        "\n",
        "D. 21.1%\n",
        "\n",
        "E. 50%"
      ],
      "metadata": {
        "id": "w8XMequpG762"
      }
    },
    {
      "cell_type": "code",
      "source": [
        "import numpy as np\n",
        "import scipy.stats as stats\n",
        "XAverage=50\n",
        "STD_SAMPLE=40\n",
        "n=100\n",
        "s1=45\n",
        "s2=55\n",
        "df=n-1\n",
        "alpha=0.05\n",
        "\n",
        "t_value1=(s1 - XAverage)/((STD_SAMPLE)/np.sqrt(n))\n",
        "t_value2=(s2 - XAverage)/((STD_SAMPLE)/np.sqrt(n))\n",
        "print(\"t_value1:\", t_value1)\n",
        "print(\"t_value2:\", t_value2)\n",
        "probability1=stats.norm.cdf(t_value1)\n",
        "probability2=stats.norm.cdf(t_value2)\n",
        "print(\"probability1:\",probability1)\n",
        "print(\"probability2:\",probability2)\n",
        "p=probability2-probability1\n",
        "print(\"probability between 45 & 55:\",p)\n",
        "if p<=alpha:\n",
        "  print(\"Accept Alternate hypothesis,so There will be a chance of an investigation\")\n",
        "else:\n",
        "  print(\"Reject Alternate hypothesis,so There will not be a chance of an investigation\")"
      ],
      "metadata": {
        "colab": {
          "base_uri": "https://localhost:8080/"
        },
        "id": "XV3X4uz8B8RC",
        "outputId": "0f908933-4ae7-4a4f-b551-38e1561b3b79"
      },
      "execution_count": 9,
      "outputs": [
        {
          "output_type": "stream",
          "name": "stdout",
          "text": [
            "t_value1: -1.25\n",
            "t_value2: 1.25\n",
            "probability1: 0.10564977366685535\n",
            "probability2: 0.8943502263331446\n",
            "probability between 45 & 55: 0.7887004526662893\n",
            "Reject Alternate hypothesis,so There will not be a chance of an investigation\n"
          ]
        }
      ]
    },
    {
      "cell_type": "markdown",
      "source": [
        "4. The auditors from the above example would like to maintain the probability\n",
        "\n",
        "of investigation to 5%. Which of the following represents the minimum number\n",
        "\n",
        "transactions that they should sample if they do not want to change the\n",
        "\n",
        "thresholds of 45 and 55? Assume that the sample statistics remain unchanged.\n",
        "\n",
        "A. 144\n",
        "\n",
        "B. 150\n",
        "\n",
        "C. 196\n",
        "\n",
        "D. 250\n",
        "\n",
        "E. Not enough information"
      ],
      "metadata": {
        "id": "W2Z_p40JJVmW"
      }
    },
    {
      "cell_type": "code",
      "source": [
        "t_value=stats.t.ppf((1-0.05/2),99)\n",
        "t_value\n",
        "n=(40*1.96)**2/25\n",
        "print(n)"
      ],
      "metadata": {
        "colab": {
          "base_uri": "https://localhost:8080/"
        },
        "id": "W7CAUmh_JToR",
        "outputId": "e8ab052c-f39b-4b83-ab95-0c2006009b14"
      },
      "execution_count": 10,
      "outputs": [
        {
          "output_type": "stream",
          "name": "stdout",
          "text": [
            "245.86240000000006\n"
          ]
        }
      ]
    },
    {
      "cell_type": "markdown",
      "source": [
        "5.\tAn educational startup that helps MBA aspirants write their essays is targeting individuals who have taken GMAT in 2012 and have expressed interest in applying to FT top 20 b-schools. There are 40000 such individuals with an average GMAT score of 720 and a standard deviation of 120. The scores are distributed between 650 and 790 with a very long and thin tail towards the higher end resulting in substantial skewness. Which of the following is likely to be true for randomly chosen samples of aspirants?\n",
        "\n",
        "A.\tThe standard deviation of the scores within any sample will be 120.\n",
        "B.\tThe standard deviation of the mean of across several samples will be 120.\n",
        "C.\tThe mean score in any sample will be 720.\n",
        "D.\tThe average of the mean across several samples will be 720.\n",
        "E.\tThe standard deviation of the mean across several samples will be 0.60\n"
      ],
      "metadata": {
        "id": "Js_CrPceKK--"
      }
    },
    {
      "cell_type": "code",
      "source": [
        "X_avg=720\n",
        "STD_samp=120\n",
        "n=40000\n",
        "#Standard_deviation_of_the_mean_across_several_samples is Standard_Error\n",
        "Standard_Error=STD_samp/np.sqrt(n)\n",
        "print(Standard_Error)"
      ],
      "metadata": {
        "colab": {
          "base_uri": "https://localhost:8080/"
        },
        "id": "HfWb-HR1Kizu",
        "outputId": "3ffee457-a317-4159-8b0f-17ecc0f81218"
      },
      "execution_count": 11,
      "outputs": [
        {
          "output_type": "stream",
          "name": "stdout",
          "text": [
            "0.6\n"
          ]
        }
      ]
    }
  ]
}